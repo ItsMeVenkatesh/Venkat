{
  "nbformat": 4,
  "nbformat_minor": 0,
  "metadata": {
    "colab": {
      "name": "Task - 8 NLP",
      "provenance": [],
      "collapsed_sections": [],
      "authorship_tag": "ABX9TyMguQDzUHXT1T6G83cwFMNH",
      "include_colab_link": true
    },
    "kernelspec": {
      "name": "python3",
      "display_name": "Python 3"
    },
    "language_info": {
      "name": "python"
    }
  },
  "cells": [
    {
      "cell_type": "markdown",
      "metadata": {
        "id": "view-in-github",
        "colab_type": "text"
      },
      "source": [
        "<a href=\"https://colab.research.google.com/github/ItsMeVenkatesh/Venkat/blob/main/Task_8_NLP.ipynb\" target=\"_parent\"><img src=\"https://colab.research.google.com/assets/colab-badge.svg\" alt=\"Open In Colab\"/></a>"
      ]
    },
    {
      "cell_type": "markdown",
      "source": [
        "##**Natural Language Processing Task**"
      ],
      "metadata": {
        "id": "fiAyc-FHTMQc"
      }
    },
    {
      "cell_type": "markdown",
      "source": [
        "##**Task-1**"
      ],
      "metadata": {
        "id": "giSKqsn9TX17"
      }
    },
    {
      "cell_type": "markdown",
      "source": [
        "Translate each word or sentence from English to Spanish, French and German"
      ],
      "metadata": {
        "id": "ioLUFzcJThSH"
      }
    },
    {
      "cell_type": "code",
      "source": [
        "!pip install deep-translator\n",
        "\n",
        "!pip install pyspellchecker"
      ],
      "metadata": {
        "colab": {
          "base_uri": "https://localhost:8080/"
        },
        "id": "b4Cp4WUETf6e",
        "outputId": "2ba1b480-5768-4bfc-d62c-aece08208cf0"
      },
      "execution_count": 59,
      "outputs": [
        {
          "output_type": "stream",
          "name": "stdout",
          "text": [
            "Looking in indexes: https://pypi.org/simple, https://us-python.pkg.dev/colab-wheels/public/simple/\n",
            "Requirement already satisfied: deep-translator in /usr/local/lib/python3.7/dist-packages (1.8.3)\n",
            "Requirement already satisfied: beautifulsoup4<5.0.0,>=4.9.1 in /usr/local/lib/python3.7/dist-packages (from deep-translator) (4.11.1)\n",
            "Requirement already satisfied: requests<3.0.0,>=2.23.0 in /usr/local/lib/python3.7/dist-packages (from deep-translator) (2.23.0)\n",
            "Requirement already satisfied: soupsieve>1.2 in /usr/local/lib/python3.7/dist-packages (from beautifulsoup4<5.0.0,>=4.9.1->deep-translator) (2.3.2.post1)\n",
            "Requirement already satisfied: urllib3!=1.25.0,!=1.25.1,<1.26,>=1.21.1 in /usr/local/lib/python3.7/dist-packages (from requests<3.0.0,>=2.23.0->deep-translator) (1.24.3)\n",
            "Requirement already satisfied: certifi>=2017.4.17 in /usr/local/lib/python3.7/dist-packages (from requests<3.0.0,>=2.23.0->deep-translator) (2022.6.15)\n",
            "Requirement already satisfied: idna<3,>=2.5 in /usr/local/lib/python3.7/dist-packages (from requests<3.0.0,>=2.23.0->deep-translator) (2.10)\n",
            "Requirement already satisfied: chardet<4,>=3.0.2 in /usr/local/lib/python3.7/dist-packages (from requests<3.0.0,>=2.23.0->deep-translator) (3.0.4)\n",
            "Looking in indexes: https://pypi.org/simple, https://us-python.pkg.dev/colab-wheels/public/simple/\n",
            "Requirement already satisfied: pyspellchecker in /usr/local/lib/python3.7/dist-packages (0.6.3)\n"
          ]
        }
      ]
    },
    {
      "cell_type": "code",
      "source": [
        "import pandas as pd\n",
        "import nltk\n",
        "nltk.download('punkt')\n",
        "nltk.download('wordnet')\n",
        "from deep_translator import GoogleTranslator"
      ],
      "metadata": {
        "colab": {
          "base_uri": "https://localhost:8080/"
        },
        "id": "B2vcYDZUTr14",
        "outputId": "5dc31ae7-682d-42e4-ae19-20963494891b"
      },
      "execution_count": 60,
      "outputs": [
        {
          "output_type": "stream",
          "name": "stderr",
          "text": [
            "[nltk_data] Downloading package punkt to /root/nltk_data...\n",
            "[nltk_data]   Package punkt is already up-to-date!\n",
            "[nltk_data] Downloading package wordnet to /root/nltk_data...\n",
            "[nltk_data]   Package wordnet is already up-to-date!\n"
          ]
        }
      ]
    },
    {
      "cell_type": "code",
      "source": [
        "df = pd.read_csv('/content/English.csv')\n",
        "print (df)"
      ],
      "metadata": {
        "colab": {
          "base_uri": "https://localhost:8080/"
        },
        "id": "wkZTHTYko_wY",
        "outputId": "645ae404-0f28-46a4-8448-0f7d52aecbc9"
      },
      "execution_count": 61,
      "outputs": [
        {
          "output_type": "stream",
          "name": "stdout",
          "text": [
            "                                  English words/sentences\n",
            "0                                                     Hi.\n",
            "1                                                    Run!\n",
            "2                                                    Run!\n",
            "3                                                    Who?\n",
            "4                                                    Wow!\n",
            "...                                                   ...\n",
            "175616  Top-down economics never works, said Obama. \"T...\n",
            "175617  A carbon footprint is the amount of carbon dio...\n",
            "175618  Death is something that we're often discourage...\n",
            "175619  Since there are usually multiple websites on a...\n",
            "175620  If someone who doesn't know your background sa...\n",
            "\n",
            "[175621 rows x 1 columns]\n"
          ]
        }
      ]
    },
    {
      "cell_type": "code",
      "source": [
        "df = pd.DataFrame(df[\"English words/sentences\"].unique()).rename(columns = {0:'English Words'})\n",
        "print(df)"
      ],
      "metadata": {
        "colab": {
          "base_uri": "https://localhost:8080/"
        },
        "id": "oRVD9dTipFC_",
        "outputId": "d43cf4b3-8011-40e7-91f4-a9aaa57ab83f"
      },
      "execution_count": 62,
      "outputs": [
        {
          "output_type": "stream",
          "name": "stdout",
          "text": [
            "                                            English Words\n",
            "0                                                     Hi.\n",
            "1                                                    Run!\n",
            "2                                                    Who?\n",
            "3                                                    Wow!\n",
            "4                                                   Fire!\n",
            "...                                                   ...\n",
            "123095  Top-down economics never works, said Obama. \"T...\n",
            "123096  A carbon footprint is the amount of carbon dio...\n",
            "123097  Death is something that we're often discourage...\n",
            "123098  Since there are usually multiple websites on a...\n",
            "123099  If someone who doesn't know your background sa...\n",
            "\n",
            "[123100 rows x 1 columns]\n"
          ]
        }
      ]
    },
    {
      "cell_type": "code",
      "source": [
        "df[\"English Words\"] = df[\"English Words\"].str.replace(\"[^a-zA-Z0-9]\", \" \") \n",
        "df[\"English Words\"]"
      ],
      "metadata": {
        "colab": {
          "base_uri": "https://localhost:8080/"
        },
        "id": "WovNlIw1jI2f",
        "outputId": "53c4cf34-41ff-4bca-ad94-f50ebb025256"
      },
      "execution_count": 63,
      "outputs": [
        {
          "output_type": "stream",
          "name": "stderr",
          "text": [
            "/usr/local/lib/python3.7/dist-packages/ipykernel_launcher.py:1: FutureWarning: The default value of regex will change from True to False in a future version.\n",
            "  \"\"\"Entry point for launching an IPython kernel.\n"
          ]
        },
        {
          "output_type": "execute_result",
          "data": {
            "text/plain": [
              "0                                                       Hi \n",
              "1                                                      Run \n",
              "2                                                      Who \n",
              "3                                                      Wow \n",
              "4                                                     Fire \n",
              "                                ...                        \n",
              "123095    Top down economics never works  said Obama   T...\n",
              "123096    A carbon footprint is the amount of carbon dio...\n",
              "123097    Death is something that we re often discourage...\n",
              "123098    Since there are usually multiple websites on a...\n",
              "123099    If someone who doesn t know your background sa...\n",
              "Name: English Words, Length: 123100, dtype: object"
            ]
          },
          "metadata": {},
          "execution_count": 63
        }
      ]
    },
    {
      "cell_type": "markdown",
      "source": [
        "##Translate each word or sentence from English to French"
      ],
      "metadata": {
        "id": "5PUdo6N-pQIH"
      }
    },
    {
      "cell_type": "code",
      "source": [
        "def Translate(rev):\n",
        "    translation_tokenized = GoogleTranslator(source='english', target='fr').translate(rev)\n",
        "    return translation_tokenized"
      ],
      "metadata": {
        "id": "C0vTtviZpRYf"
      },
      "execution_count": 64,
      "outputs": []
    },
    {
      "cell_type": "markdown",
      "source": [
        "Translate each word from English to French. Displaying 50 words"
      ],
      "metadata": {
        "id": "qmQQ7Y9ZTFmc"
      }
    },
    {
      "cell_type": "code",
      "source": [
        "Trans_French_Words = [Translate(r) for r in df[\"English Words\"].head(50)]\n",
        "Trans_French_Words"
      ],
      "metadata": {
        "colab": {
          "base_uri": "https://localhost:8080/"
        },
        "id": "fdQLFmuxqAdn",
        "outputId": "d37b64ee-f404-4ab9-a85c-3af9b7daf99a"
      },
      "execution_count": 65,
      "outputs": [
        {
          "output_type": "execute_result",
          "data": {
            "text/plain": [
              "['Salut',\n",
              " 'Courir',\n",
              " 'Qui',\n",
              " 'Ouah',\n",
              " 'Feu',\n",
              " 'Aider',\n",
              " 'Saut',\n",
              " 'Arrêt',\n",
              " 'Attendre',\n",
              " 'Continue',\n",
              " 'Bonjour',\n",
              " 'Je vois',\n",
              " \"J'essaye\",\n",
              " \"J'ai gagné\",\n",
              " \"J'ai gagné\",\n",
              " 'Oh non',\n",
              " 'Attaque',\n",
              " 'Acclamations',\n",
              " 'Se lever',\n",
              " 'Allez maintenant',\n",
              " \"J'ai compris\",\n",
              " \"J'ai compris\",\n",
              " 'Monter dedans',\n",
              " 'Donne moi un câlin',\n",
              " 'je suis tombé',\n",
              " 'je sais',\n",
              " 'Je suis parti',\n",
              " \"j'ai menti\",\n",
              " \"J'ai perdu\",\n",
              " \"j'ai payé\",\n",
              " \"J'ai 19 ans\",\n",
              " 'Je vais bien',\n",
              " 'Ecoutez',\n",
              " 'Certainement pas',\n",
              " 'Vraiment',\n",
              " 'Merci',\n",
              " 'Nous essayons',\n",
              " 'Nous avons gagné',\n",
              " 'Demander à Tom',\n",
              " 'Impressionnant',\n",
              " 'Sois calme',\n",
              " 'Soit cool',\n",
              " 'Être juste',\n",
              " 'Etre gentil',\n",
              " 'Sois gentil',\n",
              " 'Batte-le',\n",
              " 'Appelez-moi',\n",
              " 'Appelez-nous',\n",
              " 'Entrez',\n",
              " 'Allez']"
            ]
          },
          "metadata": {},
          "execution_count": 65
        }
      ]
    },
    {
      "cell_type": "markdown",
      "source": [
        "Translate each word or sentence from English to German"
      ],
      "metadata": {
        "id": "lJ_0hLv3qF9X"
      }
    },
    {
      "cell_type": "code",
      "source": [
        "def Translate_De(rev):\n",
        "    translation_tokenized = GoogleTranslator(source='english', target='de').translate(rev)\n",
        "    return translation_tokenized"
      ],
      "metadata": {
        "id": "cpaXHKPOqIo2"
      },
      "execution_count": 66,
      "outputs": []
    },
    {
      "cell_type": "markdown",
      "source": [
        "Translate each word from English to German. Displaying 50 words"
      ],
      "metadata": {
        "id": "tuxtvECGqMEW"
      }
    },
    {
      "cell_type": "code",
      "source": [
        "Trans_German_Words = [Translate_De(r) for r in df[\"English Words\"].head(50)]\n",
        "Trans_German_Words"
      ],
      "metadata": {
        "colab": {
          "base_uri": "https://localhost:8080/"
        },
        "id": "mFTTv5UlqIlg",
        "outputId": "0c34a92d-e2ee-4d15-beac-407e23635acd"
      },
      "execution_count": 67,
      "outputs": [
        {
          "output_type": "execute_result",
          "data": {
            "text/plain": [
              "['Hi',\n",
              " 'Laufen',\n",
              " 'Wer',\n",
              " 'Wow',\n",
              " 'Feuer',\n",
              " 'Hilfe',\n",
              " 'Springen',\n",
              " 'Halt',\n",
              " 'Warte ab',\n",
              " 'Mach weiter',\n",
              " 'Hallo',\n",
              " 'Aha',\n",
              " 'ich versuche',\n",
              " 'ich habe gewonnen',\n",
              " 'ich habe gewonnen',\n",
              " 'Ach nein',\n",
              " 'Attacke',\n",
              " 'Prost',\n",
              " 'Steh auf',\n",
              " 'Geh jetzt',\n",
              " 'Ich habs',\n",
              " 'Ich habs',\n",
              " 'Steigen Sie ein',\n",
              " 'Umarme mich',\n",
              " 'Ich fiel',\n",
              " 'Ich weiss',\n",
              " 'Ich ging weg',\n",
              " 'ich habe gelogen',\n",
              " 'Ich habe verloren',\n",
              " 'ich habe bezahlt',\n",
              " 'Ich bin 19',\n",
              " 'Ich bin OK',\n",
              " 'Hör mal zu',\n",
              " 'Auf keinen Fall',\n",
              " 'Wirklich',\n",
              " 'Vielen Dank',\n",
              " 'Wir versuchen',\n",
              " 'Wir haben gewonnen',\n",
              " 'Frag Tom',\n",
              " 'Genial',\n",
              " 'Ruhig sein',\n",
              " 'Sei cool',\n",
              " 'Sei fair',\n",
              " 'Sei freundlich',\n",
              " 'Sei nett',\n",
              " 'Mach dich vom Acker',\n",
              " 'Ruf mich an',\n",
              " 'Rufen Sie uns an',\n",
              " 'Komm herein',\n",
              " 'Komm schon']"
            ]
          },
          "metadata": {},
          "execution_count": 67
        }
      ]
    },
    {
      "cell_type": "code",
      "source": [
        "Trans_German_Sentence = [Translate_De(r) for r in df[\"English Words\"].tail(50)]\n",
        "Trans_German_Sentence"
      ],
      "metadata": {
        "colab": {
          "base_uri": "https://localhost:8080/"
        },
        "id": "KsxItryWqIjV",
        "outputId": "46fd6504-d244-4e89-8845-e35a48a42f7d"
      },
      "execution_count": 68,
      "outputs": [
        {
          "output_type": "execute_result",
          "data": {
            "text/plain": [
              "['Meine Mutter hat mir immer gesagt, dass ich jeden Monat Geld auf die Bank bringen soll, damit ich im Notfall genug Geld habe',\n",
              " 'Der Unterschied zwischen dem richtigen Wort und dem fast richtigen Wort ist der Unterschied zwischen Blitz und Blitzkäfer',\n",
              " 'Wir sehen mit unseren Augen, wir hören mit unseren Ohren, wir berühren mit unserer Haut, wir riechen mit unserer Nase und wir schmecken mit unserer Zunge',\n",
              " 'Wenn Sie nicht frühstücken, werden Sie wahrscheinlich morgens hungrig sein und bei der Arbeit nicht so effizient sein, wie Sie es sein könnten',\n",
              " 'Ein Vorteil des Altseins ist, dass man sich all die Dinge, die man sich in jungen Jahren nicht leisten konnte, nicht mehr wünscht',\n",
              " 'Ich habe diesen Anime oft gesehen, als ich ein Kind war, aber ich kann mich nicht genau erinnern, was mit dem Helden in der letzten Folge passiert ist',\n",
              " 'In der gleichen Zeit, die ich brauchen würde, um alle Fehler in Ihrem Bericht zu korrigieren, könnte ich selbst einen besseren Bericht schreiben',\n",
              " 'Die englische Sprache ist zweifellos das einfachste und gleichzeitig effizienteste Mittel der internationalen Kommunikation',\n",
              " 'Ich dachte, ich hätte die monatliche Gebühr bezahlt, aber ich erhielt einen Anruf von der Schule, dass die Rechnung noch bezahlt werden muss',\n",
              " 'Eine großartige Beziehung basiert auf zwei Hauptprinzipien: Schätzen Sie erstens Ihre Ähnlichkeiten und respektieren Sie zweitens Ihre Unterschiede',\n",
              " 'Laut Vertrag dürfen Sie für die Beerdigung Ihres Onkels drei Tage Trauerurlaub nehmen, für die Beerdigung Ihres Neffen aber nur einen',\n",
              " 'Die Lebensmittelpreise sind auf dem höchsten Stand, seit die Ernährungs- und Landwirtschaftsorganisation der Vereinten Nationen 1990 damit begann, Aufzeichnungen zu führen',\n",
              " 'Wenn man das Recht zu leben hat, sollte man auch das Recht zu sterben haben. Wenn nicht, dann ist das Leben kein Recht, sondern eine Pflicht',\n",
              " 'Es war schon schlimm genug, dass er normalerweise zu spät zur Arbeit kam, aber betrunken hereinzukommen, war der letzte Strohhalm und ich muss ihn gehen lassen',\n",
              " 'Die Lehrerin, die den Spielplatz beaufsichtigte, wurde besorgt, als sie sah, wie ein Mann über den Schulzaun hinweg mit einigen Kindern sprach',\n",
              " 'Städte und Provinzen entlang des Jangtse in Zentralchina kämpfen mit der schlimmsten Dürre des Landes seit mehr als 50 Jahren',\n",
              " 'Dieser Vorschlag mag ein Weg sein, zwei Fliegen mit einer Klappe zu schlagen, aber wir müssen auch aufpassen, dass wir nicht gierig werden und alles verderben',\n",
              " 'Ein Komitee ist eine Gruppe von Menschen, die einzeln nichts tun können, die sich aber als Gruppe treffen und entscheiden können, dass nichts getan werden kann',\n",
              " 'Mein Frühstück besteht normalerweise aus Kaffee mit Milch, einem Stück Brot und Marmelade, einer kleinen Banane, einem Stück Orange und getrockneten Pflaumen',\n",
              " 'Eine der besten Möglichkeiten, uns zu helfen, besteht darin, aus einer Fremdsprache, die Sie kennen, in Ihre eigene Muttersprache oder stärkste Sprache zu übersetzen',\n",
              " 'Da es bald kalt wird, könnte es schön sein, die letzten warmen Tage vor dem Wintereinbruch im Freien zu verbringen',\n",
              " 'Menschen neigen dazu, Sie nur dann zu Ihren Sprachkenntnissen zu beglückwünschen, wenn offensichtlich ist, dass Sie immer noch nicht ganz wie ein Muttersprachler klingen',\n",
              " 'Ein Mann, der nie zur Schule gegangen ist, kann einen Güterwagen stehlen, aber wenn er eine Universitätsausbildung hat, kann er die ganze Eisenbahn stehlen',\n",
              " 'Was ist Alter? Zuerst vergisst du Namen, dann vergisst du Gesichter, dann vergisst du, deinen Reißverschluss hochzuziehen, dann vergisst du, ihn herunterzuziehen',\n",
              " 'Er und ich verstehen uns fast telepathisch. Kaum sagt einer von uns etwas, antwortet der andere auch schon',\n",
              " 'Obwohl Regenwälder nur zwei Prozent der Erdoberfläche ausmachen, leben dort mehr als die Hälfte der wildlebenden Pflanzen-, Tier- und Insektenarten der Welt',\n",
              " 'Sie hat einen Freund, mit dem sie seit der High School ausgeht, aber sie hat das Gefühl, dass ihre Beziehung stagniert, also ist sie unzufrieden',\n",
              " 'Wenn Sie ein Kind nach draußen bringen und auf den Mond zeigen, wird das Kind auf den Mond schauen. Wenn Sie dasselbe mit einem Hund tun, wird es auf Ihren Finger schauen',\n",
              " 'Wenn Sie aus Ihrer Zweitsprache in Ihre eigene Muttersprache übersetzen und nicht umgekehrt, ist die Wahrscheinlichkeit geringer, dass Sie Fehler machen',\n",
              " 'Ich liebe es, neue Dinge auszuprobieren, also kaufe ich immer Produkte, sobald sie in die Regale kommen. Natürlich wünsche ich mir die Hälfte der Zeit, ich hätte es nicht getan',\n",
              " 'Eine gute Theorie zeichnet sich dadurch aus, dass sie eine Reihe von Vorhersagen trifft, die durch Beobachtung prinzipiell widerlegt oder falsifiziert werden könnten',\n",
              " 'Ein erdähnlicher Planet, von dem angenommen wird, dass er Bedingungen aufweist, die das Leben, wie wir es kennen, unterstützen würde, wurde 500 Lichtjahre von der Erde entfernt entdeckt',\n",
              " 'Je mehr Zeit Sie damit verbringen, eine Fremdsprache zu sprechen, desto besser können Sie erraten, was Nicht-Muttersprachler versuchen, in Ihrer eigenen Sprache zu sagen',\n",
              " 'Die Untersuchung ergab, dass der Vorstandsvorsitzende trotz seiner Dementis von den illegalen Praktiken im Unternehmen hätte wissen müssen',\n",
              " 'Roger Millers Vater starb, als er nur ein Jahr alt war, und seine Mutter wurde kurz darauf krank, sodass er zu seinem Onkel nach Erick, Oklahoma, geschickt wurde',\n",
              " 'Sie lernen vielleicht nicht so gut zu sprechen wie ein Muttersprachler, aber Sie sollten in der Lage sein, so gut zu sprechen, dass Muttersprachler verstehen, was Sie zu sagen haben',\n",
              " 'Und die gute Nachricht ist, dass die Wirtschaft heute wieder wächst. Löhne, Immobilienwerte und Rentenkonten steigen alle wieder. Armut geht wieder zurück',\n",
              " 'E-Zigaretten werden als gesunde Alternative zu Tabakzigaretten beworben, aber die Gesundheitsbehörden sind besorgt über die langfristigen gesundheitlichen Auswirkungen auf die Benutzer',\n",
              " 'Es ist immer noch zu schwer, einen Job zu finden Und selbst wenn Sie einen Job haben, haben Sie es wahrscheinlich schwerer, die steigenden Kosten für Lebensmittel und Benzin zu bezahlen',\n",
              " 'Noch Ende des 19. Jahrhunderts durften Seeleute der britischen Marine Messer und Gabeln nicht benutzen, weil deren Gebrauch als Zeichen von Schwäche galt',\n",
              " 'Fünf Erschütterungen mit einer Stärke von über 50 auf der Richterskala haben Japan erst diese Woche erschüttert, aber Wissenschaftler warnen davor, dass das größte erwartete Nachbeben noch aussteht',\n",
              " 'Egal wie sehr Sie versuchen, die Leute davon zu überzeugen, dass Schokolade Vanille ist, es wird immer noch Schokolade sein, auch wenn Sie es schaffen, sich selbst und ein paar andere davon zu überzeugen, dass es Vanille ist',\n",
              " 'Ein Kind, das Muttersprachler ist, weiß normalerweise viele Dinge über seine Sprache, die ein Nicht-Muttersprachler, der jahrelang studiert hat, noch nicht weiß und vielleicht nie wissen wird',\n",
              " 'Es gibt vier Hauptursachen für alkoholbedingte Todesfälle. Verletzungen durch Autounfälle oder Gewalt sind eine, Krankheiten wie Leberzirrhose, Krebs, Herz- und Blutsystemerkrankungen sind die anderen',\n",
              " 'Wir müssen Gesetze gegen Diskriminierung bei der Einstellung und beim Wohnen, im Bildungswesen und im Strafjustizsystem aufrechterhalten. Das verlangen unsere Verfassung und unsere höchsten Ideale',\n",
              " 'Top-down-Ökonomie funktioniert nie, sagte Obama. Das Land hat keinen Erfolg, wenn es nur den ganz oben gut geht. Wir haben Erfolg, wenn die Mittelschicht größer wird, wenn sie sich sicherer fühlt',\n",
              " 'Ein CO2-Fußabdruck ist die Menge an Kohlendioxidverschmutzung, die wir als Ergebnis unserer Aktivitäten verursachen. Manche Menschen versuchen, ihren CO2-Fußabdruck zu verringern, weil sie sich Sorgen um den Klimawandel machen',\n",
              " 'Der Tod ist etwas, von dem wir oft entmutigt sind, darüber zu sprechen oder auch nur darüber nachzudenken, aber ich habe erkannt, dass die Vorbereitung auf den Tod eines der ermächtigendsten Dinge ist, die Sie tun können. An den Tod zu denken, klärt Ihr Leben',\n",
              " 'Da es normalerweise mehrere Websites zu einem bestimmten Thema gibt, klicke ich normalerweise einfach auf die Schaltfläche „Zurück“, wenn ich auf einer Webseite mit Popup-Werbung ankomme. Ich gehe einfach zur nächsten von Google gefundenen Seite und hoffe auf etwas weniger Irritierendes',\n",
              " 'Wenn jemand, der Ihren Hintergrund nicht kennt, sagt, dass Sie sich wie ein Muttersprachler anhören, bedeutet dies, dass er wahrscheinlich etwas an Ihrem Sprechen bemerkt hat, das ihm klar gemacht hat, dass Sie kein Muttersprachler sind. Mit anderen Worten, Sie klingen nicht wirklich wie ein Muttersprachler']"
            ]
          },
          "metadata": {},
          "execution_count": 68
        }
      ]
    },
    {
      "cell_type": "markdown",
      "source": [
        "Translate each word or sentence from English to Spanish"
      ],
      "metadata": {
        "id": "etolqhY-qZCn"
      }
    },
    {
      "cell_type": "code",
      "source": [
        "def Translate_Es(rev):\n",
        "    translation_tokenized = GoogleTranslator(source='english', target='es').translate(rev)\n",
        "    return translation_tokenized"
      ],
      "metadata": {
        "id": "xxJO73imqIgg"
      },
      "execution_count": 69,
      "outputs": []
    },
    {
      "cell_type": "markdown",
      "source": [
        "Translate each word from English to Spanish. Displaying 50 words"
      ],
      "metadata": {
        "id": "woGOvEmRqdmf"
      }
    },
    {
      "cell_type": "code",
      "source": [
        "Trans_Spanish_Words = [Translate_Es(r) for r in df[\"English Words\"].head(50)]\n",
        "Trans_Spanish_Words"
      ],
      "metadata": {
        "colab": {
          "base_uri": "https://localhost:8080/"
        },
        "id": "7A63xtZLqId5",
        "outputId": "f5c5cd07-efba-4685-8be4-5a00d8b4e84a"
      },
      "execution_count": 70,
      "outputs": [
        {
          "output_type": "execute_result",
          "data": {
            "text/plain": [
              "['Hola',\n",
              " 'Correr',\n",
              " 'Quién',\n",
              " 'Guau',\n",
              " 'Fuego',\n",
              " 'Ayuda',\n",
              " 'Salto',\n",
              " 'Deténgase',\n",
              " 'Esperar',\n",
              " 'Continuar',\n",
              " 'Hola',\n",
              " 'ya veo',\n",
              " 'lo intento',\n",
              " 'gané',\n",
              " 'gané',\n",
              " 'Oh, no',\n",
              " 'Ataque',\n",
              " 'Salud',\n",
              " 'Levantarse',\n",
              " 'Ve ahora',\n",
              " 'Entiendo',\n",
              " 'Entiendo',\n",
              " 'súbete',\n",
              " 'Abrázame',\n",
              " 'Me caí',\n",
              " 'lo sé',\n",
              " 'me fui',\n",
              " 'mentí',\n",
              " 'perdí',\n",
              " 'He pagado',\n",
              " 'Tengo 19',\n",
              " 'Estoy bien',\n",
              " 'Escuchar',\n",
              " 'De ninguna manera',\n",
              " 'En realidad',\n",
              " 'Gracias',\n",
              " 'Intentamos',\n",
              " 'Ganamos',\n",
              " 'preguntale a tom',\n",
              " 'Impresionante',\n",
              " 'Estate calmado',\n",
              " 'Relájate',\n",
              " 'Sé justo',\n",
              " 'Se amable',\n",
              " 'Se bueno',\n",
              " 'Batirlo',\n",
              " 'Llámame',\n",
              " 'Llámanos',\n",
              " 'Adelante',\n",
              " 'Vamos']"
            ]
          },
          "metadata": {},
          "execution_count": 70
        }
      ]
    },
    {
      "cell_type": "markdown",
      "source": [
        "Translate each sentence from English to Spanish. Displaying 50 sentences"
      ],
      "metadata": {
        "id": "fmnF7dsDqovf"
      }
    },
    {
      "cell_type": "code",
      "source": [
        "Trans_Spanish_Sentence = [Translate_Es(r) for r in df[\"English Words\"].tail(50)]\n",
        "Trans_Spanish_Sentence"
      ],
      "metadata": {
        "colab": {
          "base_uri": "https://localhost:8080/"
        },
        "id": "gabOMa8JqIbG",
        "outputId": "270ba939-410c-411e-dbb0-b808257fb0ce"
      },
      "execution_count": 71,
      "outputs": [
        {
          "output_type": "execute_result",
          "data": {
            "text/plain": [
              "['Mi madre siempre me decía que debía poner dinero en el banco todos los meses para tener suficiente dinero en caso de una emergencia.',\n",
              " 'La diferencia entre la palabra correcta y casi la palabra correcta es la diferencia entre el rayo y la luciérnaga.',\n",
              " 'Vemos con nuestros ojos escuchamos con nuestros oídos tocamos con nuestra piel olemos con nuestra nariz y saboreamos con nuestra lengua',\n",
              " 'Si no desayunas, probablemente tendrás hambre durante la mañana y no serás tan eficiente en el trabajo como podrías.',\n",
              " 'Una ventaja de ser viejo es que ya no deseas todas las cosas que no podías comprar cuando eras joven.',\n",
              " 'Solía \\u200b\\u200bver mucho este anime cuando era niño, pero no recuerdo bien qué le pasó al héroe en el episodio final.',\n",
              " 'En la misma cantidad de tiempo que me tomaría corregir todos los errores en su informe, podría escribir un mejor informe yo mismo',\n",
              " 'El idioma inglés es sin duda el medio más fácil y al mismo tiempo más eficiente de comunicación internacional.',\n",
              " 'Pensé que había pagado la cuota mensual, pero recibí una llamada telefónica de la escuela que decía que aún tenía que pagar la factura.',\n",
              " 'Una gran relación se basa en dos principios fundamentales Primero aprecia tus similitudes y segundo respeta tus diferencias',\n",
              " 'De acuerdo con el contrato, puede tomar tres días de licencia por duelo para el funeral de su tío, pero solo uno para el de su sobrino.',\n",
              " 'Los precios de los alimentos están en su nivel más alto desde que la Organización de las Naciones Unidas para la Agricultura y la Alimentación comenzó a llevar registros en 1990',\n",
              " 'Si uno tiene derecho a vivir, también debería tener derecho a morir. Si no, entonces vivir no es un derecho sino una obligación.',\n",
              " 'Ya era bastante malo que normalmente llegara tarde al trabajo, pero llegar borracho fue la gota que colmó el vaso y voy a tener que dejarlo ir.',\n",
              " 'La maestra que supervisaba el patio de recreo se preocupó cuando vio a un hombre hablando con algunos de los niños por encima de la cerca de la escuela.',\n",
              " 'Las ciudades y provincias a lo largo del río Yangtze en el centro de China están lidiando con la peor sequía del país en más de 50 años.',\n",
              " 'Esa propuesta puede ser una forma de matar dos pájaros de un tiro, pero también debemos tener cuidado de no volvernos codiciosos y estropearlo todo.',\n",
              " 'Un comité es un grupo de personas que individualmente no pueden hacer nada pero que como grupo pueden reunirse y decidir que nada se puede hacer.',\n",
              " 'Mi desayuno suele constar de café con leche un trozo de pan con mermelada un plátano pequeño un trozo de naranja y unas ciruelas secas',\n",
              " 'Una de las mejores maneras de ayudarnos es traducir de un idioma extranjero que conoce a su propio idioma nativo o idioma más fuerte.',\n",
              " 'Dado que pronto hará frío, podría ser bueno disfrutar haciendo algo al aire libre los últimos días cálidos que tenemos antes de que llegue el invierno.',\n",
              " 'La gente tiende a elogiarte solo por tu habilidad lingüística cuando es evidente que todavía no suenas como un hablante nativo.',\n",
              " 'Un hombre que nunca ha ido a la escuela puede robar de un vagón de carga, pero si tiene educación universitaria, puede robar todo el ferrocarril.',\n",
              " '¿Qué es la vejez? Primero olvidas los nombres, luego olvidas las caras, luego olvidas subirte la cremallera y luego olvidas bajarla.',\n",
              " 'Él y yo nos entendemos casi telepáticamente. Tan pronto como uno de nosotros dice algo, el otro ya está respondiendo.',\n",
              " 'Aunque las selvas tropicales representan solo el dos por ciento de la superficie terrestre, más de la mitad de las especies de plantas, animales e insectos silvestres del mundo viven allí.',\n",
              " 'Tiene un novio con el que ha estado saliendo desde la escuela secundaria, pero siente que su relación se ha estancado, por lo que está insatisfecha.',\n",
              " 'Si llevas a un niño afuera y apuntas a la luna, el niño mirará la luna. Si haces lo mismo con un perro, mirará tu dedo.',\n",
              " 'Si traduce de su segundo idioma a su propio idioma nativo en lugar de hacerlo al revés, es menos probable que cometa errores.',\n",
              " 'Me encanta probar cosas nuevas, así que siempre compro productos tan pronto como llegan a los estantes de las tiendas. Por supuesto, la mitad del tiempo termino deseando no haberlo hecho.',\n",
              " 'Una buena teoría se caracteriza por el hecho de que hace una serie de predicciones que, en principio, podrían ser refutadas o falsificadas por la observación.',\n",
              " 'Un planeta similar a la Tierra que se cree que tiene condiciones que sustentarían la vida tal como la conocemos ha sido descubierto a 500 años luz de la Tierra.',\n",
              " 'Cuanto más tiempo pase hablando un idioma extranjero, mejor podrá adivinar lo que los hablantes no nativos están tratando de decir en su propio idioma.',\n",
              " 'La indagatoria concluyó que, a pesar de sus desmentidos, el primer ejecutivo tendría que haber tenido conocimiento de las prácticas ilegales que ocurren en la empresa.',\n",
              " 'El padre de Roger Miller murió cuando él tenía solo un año y su madre se enfermó poco después, por lo que lo enviaron a vivir con su tío en Erick Oklahoma.',\n",
              " 'Es posible que no aprenda a hablar tan bien como un hablante nativo, pero debe poder hablar lo suficientemente bien como para que los hablantes nativos entiendan lo que tiene que decir.',\n",
              " 'Y la buena noticia es que hoy la economía está creciendo de nuevo. Los salarios, los ingresos, el valor de la vivienda y las cuentas de jubilación están aumentando de nuevo. La pobreza está cayendo de nuevo.',\n",
              " 'Los cigarrillos electrónicos se promocionan como una alternativa saludable a los cigarrillos de tabaco, pero las autoridades sanitarias están preocupadas por los efectos a largo plazo en la salud de los usuarios.',\n",
              " 'Todavía es demasiado difícil encontrar un trabajo E incluso si tiene un trabajo, es probable que le resulte más difícil pagar los costos crecientes de todo, desde comestibles hasta gasolina.',\n",
              " 'Incluso a fines del siglo XIX, a los marineros de la Marina británica no se les permitía usar cuchillos y tenedores porque usarlos se consideraba un signo de debilidad.',\n",
              " 'Cinco temblores de magnitud superior a 50 en la escala de Richter sacudieron Japón esta semana, pero los científicos advierten que la mayor réplica esperada aún no se ha producido.',\n",
              " 'No importa cuánto intente convencer a la gente de que el chocolate es vainilla, seguirá siendo chocolate, aunque pueda convencerse a sí mismo y a algunos otros de que es vainilla.',\n",
              " 'Un niño que es hablante nativo por lo general sabe muchas cosas sobre su idioma que un hablante no nativo que ha estado estudiando durante años todavía no sabe y quizás nunca sabrá.',\n",
              " 'Hay cuatro causas principales de muerte relacionadas con el alcohol. Las lesiones por accidentes automovilísticos o violencia son una. Las enfermedades como la cirrosis del hígado. El cáncer. Las enfermedades del corazón y del sistema sanguíneo son las otras.',\n",
              " 'Necesitamos defender las leyes contra la discriminación en la contratación y en la vivienda y en la educación y en el sistema de justicia penal. Eso es lo que exige nuestra Constitución y nuestros más altos ideales.',\n",
              " 'La economía de arriba hacia abajo nunca funciona, dijo Obama. El país no tiene éxito cuando solo a los que están en la cima les va bien. Tenemos éxito cuando la clase media crece cuando se siente más segura.',\n",
              " 'Una huella de carbono es la cantidad de contaminación por dióxido de carbono que producimos como resultado de nuestras actividades. Algunas personas intentan reducir su huella de carbono porque les preocupa el cambio climático.',\n",
              " 'La muerte es algo de lo que a menudo nos desanimamos a hablar o incluso pensar, pero me he dado cuenta de que prepararse para la muerte es una de las cosas más poderosas que puedes hacer. Pensar en la muerte aclara tu vida.',\n",
              " 'Dado que generalmente hay varios sitios web sobre un tema determinado, generalmente solo hago clic en el botón Atrás cuando llego a cualquier página web que tiene publicidad emergente. Simplemente voy a la siguiente página que encuentra Google y espero algo menos irritante.',\n",
              " 'Si alguien que no conoce tus antecedentes dice que hablas como un hablante nativo, significa que probablemente notó algo en tu forma de hablar que les hizo darse cuenta de que no eras un hablante nativo. En otras palabras, realmente no suenas como un hablante nativo.']"
            ]
          },
          "metadata": {},
          "execution_count": 71
        }
      ]
    },
    {
      "cell_type": "markdown",
      "source": [
        "###**Task-2**"
      ],
      "metadata": {
        "id": "av5tlbyUquff"
      }
    },
    {
      "cell_type": "markdown",
      "source": [
        "Create a program that needs to automatically correct that spelling from the word or a given sentence. (Language : English)\n",
        "\n",
        "Spell correction for words"
      ],
      "metadata": {
        "id": "IjhbLEBIqzGf"
      }
    },
    {
      "cell_type": "code",
      "source": [
        "from spellchecker import SpellChecker\n",
        " \n",
        "specheck = SpellChecker()\n",
        "\n",
        "misspelled_words = specheck.unknown([\"cmputr\", \"watr\", \"wriet\", \"athist\", \"acceptible\", \"benifit\", \"acommodate\", \"amatuer\", \"acknowlege\", \"becomeing\", \n",
        "                            \"camoflague\", \"catagory\", \"cauhgt\", \"cematery\", \"apparrent\", \"congradulate\", \"conceed\", \"definit\", \"disasterous\", \"dilema\",\n",
        "                            \"equiptment \", \"excede\", \"experiance\", \"innoculate\", \"extreem\", \"guage\", \"gratful\", \"guidence\", \"heirarchy\", \"dumbell\",\n",
        "                            \"necessery\", \"inteligence\", \"kernal\", \"libary\", \"outragous\", \"marshmellow\", \"miniture\", \"medeval\", \"nieghbor\", \"origenal\"])\n",
        "\n",
        "for word in misspelled_words:\n",
        "    print(specheck.correction(word))"
      ],
      "metadata": {
        "colab": {
          "base_uri": "https://localhost:8080/"
        },
        "id": "xR4B_nE3qIVm",
        "outputId": "22fc41b5-1f98-4eed-ab0c-e236c743451a"
      },
      "execution_count": 72,
      "outputs": [
        {
          "output_type": "stream",
          "name": "stdout",
          "text": [
            "category\n",
            "necessary\n",
            "dilemma\n",
            "write\n",
            "becoming\n",
            "camouflage\n",
            "exceed\n",
            "intelligence\n",
            "cemetery\n",
            "atheist\n",
            "accommodate\n",
            "original\n",
            "guidance\n",
            "outrageous\n",
            "concede\n",
            "water\n",
            "disastrous\n",
            "library\n",
            "marshmallow\n",
            "equipment\n",
            "dumbbell\n",
            "apparent\n",
            "amateur\n",
            "grateful\n",
            "hierarchy\n",
            "acceptable\n",
            "kernel\n",
            "computer\n",
            "extreme\n",
            "caught\n",
            "experience\n",
            "neighbor\n",
            "acknowledge\n",
            "medieval\n",
            "definite\n",
            "benefit\n",
            "miniature\n",
            "inoculate\n",
            "gauge\n",
            "congratulate\n"
          ]
        }
      ]
    },
    {
      "cell_type": "code",
      "source": [
        "import jamspell"
      ],
      "metadata": {
        "id": "Hra-7re7tVBi"
      },
      "execution_count": 73,
      "outputs": []
    },
    {
      "cell_type": "code",
      "source": [
        "jsp = jamspell.TSpellCorrector()\n",
        "assert jsp.LoadLangModel('en.bin')\n",
        " \n",
        "# To fix text automatically run FixFragment:\n",
        "print(jsp.FixFragment(\"I am the begt spell cherken\"))\n",
        "print(jsp.FixFragment(\"Watre fell on my computr\"))\n",
        "print(jsp.FixFragment(\"Athiest is one who does not beleve in God\"))\n",
        "print(jsp.FixFragment(\"I am extreemly greatful to you\"))\n",
        "print(jsp.FixFragment(\"Is this reelly necessery?\"))\n",
        "print(jsp.FixFragment(\"I am in a real dilema whether to buy flourescent bulb or a LED bulb\"))\n",
        "print(jsp.FixFragment(\"He conceeded defeat and congradulated the winner\"))\n",
        "print(jsp.FixFragment(\"His nieghbor has a libary at the end of this streat\"))\n",
        "print(jsp.FixFragment(\"He perfomed well in Miniture Golf and exceded everyone's expectation\"))\n",
        "print(jsp.FixFragment(\"Due to heavy rains, the brige colapsed and resulted in a number of casulities\"))\n",
        "print(jsp.FixFragment(\"Pationce is a vitue\"))\n",
        "print(jsp.FixFragment(\"Taking a week-long vacaton would braek the bank. There’s no way I could aford to do it\"))\n",
        "print(jsp.FixFragment(\"The traffic cop receves kicbacks for not writting tickets to politicians\"))\n",
        "print(jsp.FixFragment(\"The Louvre Musem in Paris has the genuin Mona Lisa\"))"
      ],
      "metadata": {
        "colab": {
          "base_uri": "https://localhost:8080/"
        },
        "id": "RbKzJ6b9sH8e",
        "outputId": "6a159eb1-9dfb-4ec8-b29c-8b1a970019b0"
      },
      "execution_count": 74,
      "outputs": [
        {
          "output_type": "stream",
          "name": "stdout",
          "text": [
            "I am the best spell checker\n",
            "Water fell on my computer\n",
            "Atheist is one who does not believe in God\n",
            "I am extremely grateful to you\n",
            "Is this really necessary?\n",
            "I am in a real dilemma whether to buy fluorescent bulb or a LED bulb\n",
            "He conceded defeat and congratulated the winner\n",
            "His neighbor has a library at the end of this street\n",
            "He performed well in Miniature Golf and exceeded everyone's expectation\n",
            "Due to heavy rains, the bridge collapsed and resulted in a number of casualties\n",
            "Patience is a virtue\n",
            "Taking a week-long vacation would break the bank. There’s no way I could afford to do it\n",
            "The traffic cop receives kickbacks for not writing tickets to politicians\n",
            "The Louvre Museum in Paris has the genuine Mona Lisa\n"
          ]
        }
      ]
    },
    {
      "cell_type": "markdown",
      "source": [
        "###**Task-3**"
      ],
      "metadata": {
        "id": "x_fJ7TeWteoR"
      }
    },
    {
      "cell_type": "markdown",
      "source": [
        "Create an application that should be used by the HR Team to filter the resume\n",
        "based on the Skill"
      ],
      "metadata": {
        "id": "P1n2p4uktj14"
      }
    },
    {
      "cell_type": "code",
      "source": [
        "import pandas as pd\n",
        "import plotly.express as px\n",
        "import re\n",
        "import nltk\n",
        "nltk.download('stopwords')\n",
        "nltk.download('punkt')\n",
        "import string\n",
        "from nltk.corpus import stopwords"
      ],
      "metadata": {
        "colab": {
          "base_uri": "https://localhost:8080/"
        },
        "id": "fYsCYx9JPZhj",
        "outputId": "52906f5a-c48b-480b-ab9d-0434c3a78a3b"
      },
      "execution_count": 2,
      "outputs": [
        {
          "output_type": "stream",
          "name": "stderr",
          "text": [
            "[nltk_data] Downloading package stopwords to /root/nltk_data...\n",
            "[nltk_data]   Unzipping corpora/stopwords.zip.\n",
            "[nltk_data] Downloading package punkt to /root/nltk_data...\n",
            "[nltk_data]   Unzipping tokenizers/punkt.zip.\n"
          ]
        }
      ]
    },
    {
      "cell_type": "code",
      "source": [
        "df = pd.read_csv('/content/UpdatedResumeDataSet.csv')\n",
        "\n",
        "df.head()"
      ],
      "metadata": {
        "colab": {
          "base_uri": "https://localhost:8080/",
          "height": 206
        },
        "id": "3yaJgi3fQIxs",
        "outputId": "32f3d755-da29-4899-a16f-6c9a4b527c33"
      },
      "execution_count": 3,
      "outputs": [
        {
          "output_type": "execute_result",
          "data": {
            "text/plain": [
              "       Category                                             Resume\n",
              "0  Data Science  Skills * Programming Languages: Python (pandas...\n",
              "1  Data Science  Education Details \\r\\nMay 2013 to May 2017 B.E...\n",
              "2  Data Science  Areas of Interest Deep Learning, Control Syste...\n",
              "3  Data Science  Skills â¢ R â¢ Python â¢ SAP HANA â¢ Table...\n",
              "4  Data Science  Education Details \\r\\n MCA   YMCAUST,  Faridab..."
            ],
            "text/html": [
              "\n",
              "  <div id=\"df-21724e20-6eb6-44dc-a031-68e914c6b064\">\n",
              "    <div class=\"colab-df-container\">\n",
              "      <div>\n",
              "<style scoped>\n",
              "    .dataframe tbody tr th:only-of-type {\n",
              "        vertical-align: middle;\n",
              "    }\n",
              "\n",
              "    .dataframe tbody tr th {\n",
              "        vertical-align: top;\n",
              "    }\n",
              "\n",
              "    .dataframe thead th {\n",
              "        text-align: right;\n",
              "    }\n",
              "</style>\n",
              "<table border=\"1\" class=\"dataframe\">\n",
              "  <thead>\n",
              "    <tr style=\"text-align: right;\">\n",
              "      <th></th>\n",
              "      <th>Category</th>\n",
              "      <th>Resume</th>\n",
              "    </tr>\n",
              "  </thead>\n",
              "  <tbody>\n",
              "    <tr>\n",
              "      <th>0</th>\n",
              "      <td>Data Science</td>\n",
              "      <td>Skills * Programming Languages: Python (pandas...</td>\n",
              "    </tr>\n",
              "    <tr>\n",
              "      <th>1</th>\n",
              "      <td>Data Science</td>\n",
              "      <td>Education Details \\r\\nMay 2013 to May 2017 B.E...</td>\n",
              "    </tr>\n",
              "    <tr>\n",
              "      <th>2</th>\n",
              "      <td>Data Science</td>\n",
              "      <td>Areas of Interest Deep Learning, Control Syste...</td>\n",
              "    </tr>\n",
              "    <tr>\n",
              "      <th>3</th>\n",
              "      <td>Data Science</td>\n",
              "      <td>Skills â¢ R â¢ Python â¢ SAP HANA â¢ Table...</td>\n",
              "    </tr>\n",
              "    <tr>\n",
              "      <th>4</th>\n",
              "      <td>Data Science</td>\n",
              "      <td>Education Details \\r\\n MCA   YMCAUST,  Faridab...</td>\n",
              "    </tr>\n",
              "  </tbody>\n",
              "</table>\n",
              "</div>\n",
              "      <button class=\"colab-df-convert\" onclick=\"convertToInteractive('df-21724e20-6eb6-44dc-a031-68e914c6b064')\"\n",
              "              title=\"Convert this dataframe to an interactive table.\"\n",
              "              style=\"display:none;\">\n",
              "        \n",
              "  <svg xmlns=\"http://www.w3.org/2000/svg\" height=\"24px\"viewBox=\"0 0 24 24\"\n",
              "       width=\"24px\">\n",
              "    <path d=\"M0 0h24v24H0V0z\" fill=\"none\"/>\n",
              "    <path d=\"M18.56 5.44l.94 2.06.94-2.06 2.06-.94-2.06-.94-.94-2.06-.94 2.06-2.06.94zm-11 1L8.5 8.5l.94-2.06 2.06-.94-2.06-.94L8.5 2.5l-.94 2.06-2.06.94zm10 10l.94 2.06.94-2.06 2.06-.94-2.06-.94-.94-2.06-.94 2.06-2.06.94z\"/><path d=\"M17.41 7.96l-1.37-1.37c-.4-.4-.92-.59-1.43-.59-.52 0-1.04.2-1.43.59L10.3 9.45l-7.72 7.72c-.78.78-.78 2.05 0 2.83L4 21.41c.39.39.9.59 1.41.59.51 0 1.02-.2 1.41-.59l7.78-7.78 2.81-2.81c.8-.78.8-2.07 0-2.86zM5.41 20L4 18.59l7.72-7.72 1.47 1.35L5.41 20z\"/>\n",
              "  </svg>\n",
              "      </button>\n",
              "      \n",
              "  <style>\n",
              "    .colab-df-container {\n",
              "      display:flex;\n",
              "      flex-wrap:wrap;\n",
              "      gap: 12px;\n",
              "    }\n",
              "\n",
              "    .colab-df-convert {\n",
              "      background-color: #E8F0FE;\n",
              "      border: none;\n",
              "      border-radius: 50%;\n",
              "      cursor: pointer;\n",
              "      display: none;\n",
              "      fill: #1967D2;\n",
              "      height: 32px;\n",
              "      padding: 0 0 0 0;\n",
              "      width: 32px;\n",
              "    }\n",
              "\n",
              "    .colab-df-convert:hover {\n",
              "      background-color: #E2EBFA;\n",
              "      box-shadow: 0px 1px 2px rgba(60, 64, 67, 0.3), 0px 1px 3px 1px rgba(60, 64, 67, 0.15);\n",
              "      fill: #174EA6;\n",
              "    }\n",
              "\n",
              "    [theme=dark] .colab-df-convert {\n",
              "      background-color: #3B4455;\n",
              "      fill: #D2E3FC;\n",
              "    }\n",
              "\n",
              "    [theme=dark] .colab-df-convert:hover {\n",
              "      background-color: #434B5C;\n",
              "      box-shadow: 0px 1px 3px 1px rgba(0, 0, 0, 0.15);\n",
              "      filter: drop-shadow(0px 1px 2px rgba(0, 0, 0, 0.3));\n",
              "      fill: #FFFFFF;\n",
              "    }\n",
              "  </style>\n",
              "\n",
              "      <script>\n",
              "        const buttonEl =\n",
              "          document.querySelector('#df-21724e20-6eb6-44dc-a031-68e914c6b064 button.colab-df-convert');\n",
              "        buttonEl.style.display =\n",
              "          google.colab.kernel.accessAllowed ? 'block' : 'none';\n",
              "\n",
              "        async function convertToInteractive(key) {\n",
              "          const element = document.querySelector('#df-21724e20-6eb6-44dc-a031-68e914c6b064');\n",
              "          const dataTable =\n",
              "            await google.colab.kernel.invokeFunction('convertToInteractive',\n",
              "                                                     [key], {});\n",
              "          if (!dataTable) return;\n",
              "\n",
              "          const docLinkHtml = 'Like what you see? Visit the ' +\n",
              "            '<a target=\"_blank\" href=https://colab.research.google.com/notebooks/data_table.ipynb>data table notebook</a>'\n",
              "            + ' to learn more about interactive tables.';\n",
              "          element.innerHTML = '';\n",
              "          dataTable['output_type'] = 'display_data';\n",
              "          await google.colab.output.renderOutput(dataTable, element);\n",
              "          const docLink = document.createElement('div');\n",
              "          docLink.innerHTML = docLinkHtml;\n",
              "          element.appendChild(docLink);\n",
              "        }\n",
              "      </script>\n",
              "    </div>\n",
              "  </div>\n",
              "  "
            ]
          },
          "metadata": {},
          "execution_count": 3
        }
      ]
    },
    {
      "cell_type": "code",
      "source": [
        "df.shape"
      ],
      "metadata": {
        "colab": {
          "base_uri": "https://localhost:8080/"
        },
        "id": "LlnZUztGQOH7",
        "outputId": "bd5ed1f1-abc8-4e96-b34d-8b209ecfffce"
      },
      "execution_count": 4,
      "outputs": [
        {
          "output_type": "execute_result",
          "data": {
            "text/plain": [
              "(962, 2)"
            ]
          },
          "metadata": {},
          "execution_count": 4
        }
      ]
    },
    {
      "cell_type": "code",
      "source": [
        "df.info()"
      ],
      "metadata": {
        "colab": {
          "base_uri": "https://localhost:8080/"
        },
        "id": "ndV_ma5gQQbj",
        "outputId": "debd9334-3f51-4bc7-dd1d-624a5eb22f9b"
      },
      "execution_count": 5,
      "outputs": [
        {
          "output_type": "stream",
          "name": "stdout",
          "text": [
            "<class 'pandas.core.frame.DataFrame'>\n",
            "RangeIndex: 962 entries, 0 to 961\n",
            "Data columns (total 2 columns):\n",
            " #   Column    Non-Null Count  Dtype \n",
            "---  ------    --------------  ----- \n",
            " 0   Category  962 non-null    object\n",
            " 1   Resume    962 non-null    object\n",
            "dtypes: object(2)\n",
            "memory usage: 15.2+ KB\n"
          ]
        }
      ]
    },
    {
      "cell_type": "code",
      "source": [
        "df.isnull().sum()"
      ],
      "metadata": {
        "colab": {
          "base_uri": "https://localhost:8080/"
        },
        "id": "IjBCrlUEQSjD",
        "outputId": "83284945-9f85-4a50-c3da-f082cb1e0f60"
      },
      "execution_count": 6,
      "outputs": [
        {
          "output_type": "execute_result",
          "data": {
            "text/plain": [
              "Category    0\n",
              "Resume      0\n",
              "dtype: int64"
            ]
          },
          "metadata": {},
          "execution_count": 6
        }
      ]
    },
    {
      "cell_type": "markdown",
      "source": [
        "**Visualization**"
      ],
      "metadata": {
        "id": "pNnSlC8KQWO-"
      }
    },
    {
      "cell_type": "code",
      "source": [
        "fig = px.histogram( \n",
        "    df, x=\"Category\", title=\"Distribution of Jobs Categories\"\n",
        "  ).update_xaxes(categoryorder=\"total descending\")\n",
        "fig.show()"
      ],
      "metadata": {
        "colab": {
          "base_uri": "https://localhost:8080/",
          "height": 542
        },
        "id": "H_CC2GNiQYQT",
        "outputId": "56d83cc5-ab5b-47e9-9f9f-434f06154c4f"
      },
      "execution_count": 10,
      "outputs": [
        {
          "output_type": "display_data",
          "data": {
            "text/html": [
              "<html>\n",
              "<head><meta charset=\"utf-8\" /></head>\n",
              "<body>\n",
              "    <div>            <script src=\"https://cdnjs.cloudflare.com/ajax/libs/mathjax/2.7.5/MathJax.js?config=TeX-AMS-MML_SVG\"></script><script type=\"text/javascript\">if (window.MathJax) {MathJax.Hub.Config({SVG: {font: \"STIX-Web\"}});}</script>                <script type=\"text/javascript\">window.PlotlyConfig = {MathJaxConfig: 'local'};</script>\n",
              "        <script src=\"https://cdn.plot.ly/plotly-2.8.3.min.js\"></script>                <div id=\"37b8017a-de91-484a-9cb3-ecbc3974f9ff\" class=\"plotly-graph-div\" style=\"height:525px; width:100%;\"></div>            <script type=\"text/javascript\">                                    window.PLOTLYENV=window.PLOTLYENV || {};                                    if (document.getElementById(\"37b8017a-de91-484a-9cb3-ecbc3974f9ff\")) {                    Plotly.newPlot(                        \"37b8017a-de91-484a-9cb3-ecbc3974f9ff\",                        [{\"alignmentgroup\":\"True\",\"bingroup\":\"x\",\"hovertemplate\":\"Category=%{x}<br>count=%{y}<extra></extra>\",\"legendgroup\":\"\",\"marker\":{\"color\":\"#636efa\",\"pattern\":{\"shape\":\"\"}},\"name\":\"\",\"offsetgroup\":\"\",\"orientation\":\"v\",\"showlegend\":false,\"x\":[\"Data Science\",\"Data Science\",\"Data Science\",\"Data Science\",\"Data Science\",\"Data Science\",\"Data Science\",\"Data Science\",\"Data Science\",\"Data Science\",\"Data Science\",\"Data Science\",\"Data Science\",\"Data Science\",\"Data Science\",\"Data Science\",\"Data Science\",\"Data Science\",\"Data Science\",\"Data Science\",\"Data Science\",\"Data Science\",\"Data Science\",\"Data Science\",\"Data Science\",\"Data Science\",\"Data Science\",\"Data Science\",\"Data Science\",\"Data Science\",\"Data Science\",\"Data Science\",\"Data Science\",\"Data Science\",\"Data Science\",\"Data Science\",\"Data Science\",\"Data Science\",\"Data Science\",\"Data Science\",\"HR\",\"HR\",\"HR\",\"HR\",\"HR\",\"HR\",\"HR\",\"HR\",\"HR\",\"HR\",\"HR\",\"HR\",\"HR\",\"HR\",\"HR\",\"HR\",\"HR\",\"HR\",\"HR\",\"HR\",\"HR\",\"HR\",\"HR\",\"HR\",\"HR\",\"HR\",\"HR\",\"HR\",\"HR\",\"HR\",\"HR\",\"HR\",\"HR\",\"HR\",\"HR\",\"HR\",\"HR\",\"HR\",\"HR\",\"HR\",\"HR\",\"HR\",\"HR\",\"HR\",\"Advocate\",\"Advocate\",\"Advocate\",\"Advocate\",\"Advocate\",\"Advocate\",\"Advocate\",\"Advocate\",\"Advocate\",\"Advocate\",\"Advocate\",\"Advocate\",\"Advocate\",\"Advocate\",\"Advocate\",\"Advocate\",\"Advocate\",\"Advocate\",\"Advocate\",\"Advocate\",\"Arts\",\"Arts\",\"Arts\",\"Arts\",\"Arts\",\"Arts\",\"Arts\",\"Arts\",\"Arts\",\"Arts\",\"Arts\",\"Arts\",\"Arts\",\"Arts\",\"Arts\",\"Arts\",\"Arts\",\"Arts\",\"Arts\",\"Arts\",\"Arts\",\"Arts\",\"Arts\",\"Arts\",\"Arts\",\"Arts\",\"Arts\",\"Arts\",\"Arts\",\"Arts\",\"Arts\",\"Arts\",\"Arts\",\"Arts\",\"Arts\",\"Arts\",\"Web Designing\",\"Web Designing\",\"Web Designing\",\"Web Designing\",\"Web Designing\",\"Web Designing\",\"Web Designing\",\"Web Designing\",\"Web Designing\",\"Web Designing\",\"Web Designing\",\"Web Designing\",\"Web Designing\",\"Web Designing\",\"Web Designing\",\"Web Designing\",\"Web Designing\",\"Web Designing\",\"Web Designing\",\"Web Designing\",\"Web Designing\",\"Web Designing\",\"Web Designing\",\"Web Designing\",\"Web Designing\",\"Web Designing\",\"Web Designing\",\"Web Designing\",\"Web Designing\",\"Web Designing\",\"Web Designing\",\"Web Designing\",\"Web Designing\",\"Web Designing\",\"Web Designing\",\"Web Designing\",\"Web Designing\",\"Web Designing\",\"Web Designing\",\"Web Designing\",\"Web Designing\",\"Web Designing\",\"Web Designing\",\"Web Designing\",\"Web Designing\",\"Mechanical Engineer\",\"Mechanical Engineer\",\"Mechanical Engineer\",\"Mechanical Engineer\",\"Mechanical Engineer\",\"Mechanical Engineer\",\"Mechanical Engineer\",\"Mechanical Engineer\",\"Mechanical Engineer\",\"Mechanical Engineer\",\"Mechanical Engineer\",\"Mechanical Engineer\",\"Mechanical Engineer\",\"Mechanical Engineer\",\"Mechanical Engineer\",\"Mechanical Engineer\",\"Mechanical Engineer\",\"Mechanical Engineer\",\"Mechanical Engineer\",\"Mechanical Engineer\",\"Mechanical Engineer\",\"Mechanical Engineer\",\"Mechanical Engineer\",\"Mechanical Engineer\",\"Mechanical Engineer\",\"Mechanical Engineer\",\"Mechanical Engineer\",\"Mechanical Engineer\",\"Mechanical Engineer\",\"Mechanical Engineer\",\"Mechanical Engineer\",\"Mechanical Engineer\",\"Mechanical Engineer\",\"Mechanical Engineer\",\"Mechanical Engineer\",\"Mechanical Engineer\",\"Mechanical Engineer\",\"Mechanical Engineer\",\"Mechanical Engineer\",\"Mechanical Engineer\",\"Sales\",\"Sales\",\"Sales\",\"Sales\",\"Sales\",\"Sales\",\"Sales\",\"Sales\",\"Sales\",\"Sales\",\"Sales\",\"Sales\",\"Sales\",\"Sales\",\"Sales\",\"Sales\",\"Sales\",\"Sales\",\"Sales\",\"Sales\",\"Sales\",\"Sales\",\"Sales\",\"Sales\",\"Sales\",\"Sales\",\"Sales\",\"Sales\",\"Sales\",\"Sales\",\"Sales\",\"Sales\",\"Sales\",\"Sales\",\"Sales\",\"Sales\",\"Sales\",\"Sales\",\"Sales\",\"Sales\",\"Health and fitness\",\"Health and fitness\",\"Health and fitness\",\"Health and fitness\",\"Health and fitness\",\"Health and fitness\",\"Health and fitness\",\"Health and fitness\",\"Health and fitness\",\"Health and fitness\",\"Health and fitness\",\"Health and fitness\",\"Health and fitness\",\"Health and fitness\",\"Health and fitness\",\"Health and fitness\",\"Health and fitness\",\"Health and fitness\",\"Health and fitness\",\"Health and fitness\",\"Health and fitness\",\"Health and fitness\",\"Health and fitness\",\"Health and fitness\",\"Health and fitness\",\"Health and fitness\",\"Health and fitness\",\"Health and fitness\",\"Health and fitness\",\"Health and fitness\",\"Civil Engineer\",\"Civil Engineer\",\"Civil Engineer\",\"Civil Engineer\",\"Civil Engineer\",\"Civil Engineer\",\"Civil Engineer\",\"Civil Engineer\",\"Civil Engineer\",\"Civil Engineer\",\"Civil Engineer\",\"Civil Engineer\",\"Civil Engineer\",\"Civil Engineer\",\"Civil Engineer\",\"Civil Engineer\",\"Civil Engineer\",\"Civil Engineer\",\"Civil Engineer\",\"Civil Engineer\",\"Civil Engineer\",\"Civil Engineer\",\"Civil Engineer\",\"Civil Engineer\",\"Java Developer\",\"Java Developer\",\"Java Developer\",\"Java Developer\",\"Java Developer\",\"Java Developer\",\"Java Developer\",\"Java Developer\",\"Java Developer\",\"Java Developer\",\"Java Developer\",\"Java Developer\",\"Java Developer\",\"Java Developer\",\"Java Developer\",\"Java Developer\",\"Java Developer\",\"Java Developer\",\"Java Developer\",\"Java Developer\",\"Java Developer\",\"Java Developer\",\"Java Developer\",\"Java Developer\",\"Java Developer\",\"Java Developer\",\"Java Developer\",\"Java Developer\",\"Java Developer\",\"Java Developer\",\"Java Developer\",\"Java Developer\",\"Java Developer\",\"Java Developer\",\"Java Developer\",\"Java Developer\",\"Java Developer\",\"Java Developer\",\"Java Developer\",\"Java Developer\",\"Java Developer\",\"Java Developer\",\"Java Developer\",\"Java Developer\",\"Java Developer\",\"Java Developer\",\"Java Developer\",\"Java Developer\",\"Java Developer\",\"Java Developer\",\"Java Developer\",\"Java Developer\",\"Java Developer\",\"Java Developer\",\"Java Developer\",\"Java Developer\",\"Java Developer\",\"Java Developer\",\"Java Developer\",\"Java Developer\",\"Java Developer\",\"Java Developer\",\"Java Developer\",\"Java Developer\",\"Java Developer\",\"Java Developer\",\"Java Developer\",\"Java Developer\",\"Java Developer\",\"Java Developer\",\"Java Developer\",\"Java Developer\",\"Java Developer\",\"Java Developer\",\"Java Developer\",\"Java Developer\",\"Java Developer\",\"Java Developer\",\"Java Developer\",\"Java Developer\",\"Java Developer\",\"Java Developer\",\"Java Developer\",\"Java Developer\",\"Business Analyst\",\"Business Analyst\",\"Business Analyst\",\"Business Analyst\",\"Business Analyst\",\"Business Analyst\",\"Business Analyst\",\"Business Analyst\",\"Business Analyst\",\"Business Analyst\",\"Business Analyst\",\"Business Analyst\",\"Business Analyst\",\"Business Analyst\",\"Business Analyst\",\"Business Analyst\",\"Business Analyst\",\"Business Analyst\",\"Business Analyst\",\"Business Analyst\",\"Business Analyst\",\"Business Analyst\",\"Business Analyst\",\"Business Analyst\",\"Business Analyst\",\"Business Analyst\",\"Business Analyst\",\"Business Analyst\",\"SAP Developer\",\"SAP Developer\",\"SAP Developer\",\"SAP Developer\",\"SAP Developer\",\"SAP Developer\",\"SAP Developer\",\"SAP Developer\",\"SAP Developer\",\"SAP Developer\",\"SAP Developer\",\"SAP Developer\",\"SAP Developer\",\"SAP Developer\",\"SAP Developer\",\"SAP Developer\",\"SAP Developer\",\"SAP Developer\",\"SAP Developer\",\"SAP Developer\",\"SAP Developer\",\"SAP Developer\",\"SAP Developer\",\"SAP Developer\",\"Automation Testing\",\"Automation Testing\",\"Automation Testing\",\"Automation Testing\",\"Automation Testing\",\"Automation Testing\",\"Automation Testing\",\"Automation Testing\",\"Automation Testing\",\"Automation Testing\",\"Automation Testing\",\"Automation Testing\",\"Automation Testing\",\"Automation Testing\",\"Automation Testing\",\"Automation Testing\",\"Automation Testing\",\"Automation Testing\",\"Automation Testing\",\"Automation Testing\",\"Automation Testing\",\"Automation Testing\",\"Automation Testing\",\"Automation Testing\",\"Automation Testing\",\"Automation Testing\",\"Electrical Engineering\",\"Electrical Engineering\",\"Electrical Engineering\",\"Electrical Engineering\",\"Electrical Engineering\",\"Electrical Engineering\",\"Electrical Engineering\",\"Electrical Engineering\",\"Electrical Engineering\",\"Electrical Engineering\",\"Electrical Engineering\",\"Electrical Engineering\",\"Electrical Engineering\",\"Electrical Engineering\",\"Electrical Engineering\",\"Electrical Engineering\",\"Electrical Engineering\",\"Electrical Engineering\",\"Electrical Engineering\",\"Electrical Engineering\",\"Electrical Engineering\",\"Electrical Engineering\",\"Electrical Engineering\",\"Electrical Engineering\",\"Electrical Engineering\",\"Electrical Engineering\",\"Electrical Engineering\",\"Electrical Engineering\",\"Electrical Engineering\",\"Electrical Engineering\",\"Operations Manager\",\"Operations Manager\",\"Operations Manager\",\"Operations Manager\",\"Operations Manager\",\"Operations Manager\",\"Operations Manager\",\"Operations Manager\",\"Operations Manager\",\"Operations Manager\",\"Operations Manager\",\"Operations Manager\",\"Operations Manager\",\"Operations Manager\",\"Operations Manager\",\"Operations Manager\",\"Operations Manager\",\"Operations Manager\",\"Operations Manager\",\"Operations Manager\",\"Operations Manager\",\"Operations Manager\",\"Operations Manager\",\"Operations Manager\",\"Operations Manager\",\"Operations Manager\",\"Operations Manager\",\"Operations Manager\",\"Operations Manager\",\"Operations Manager\",\"Operations Manager\",\"Operations Manager\",\"Operations Manager\",\"Operations Manager\",\"Operations Manager\",\"Operations Manager\",\"Operations Manager\",\"Operations Manager\",\"Operations Manager\",\"Operations Manager\",\"Python Developer\",\"Python Developer\",\"Python Developer\",\"Python Developer\",\"Python Developer\",\"Python Developer\",\"Python Developer\",\"Python Developer\",\"Python Developer\",\"Python Developer\",\"Python Developer\",\"Python Developer\",\"Python Developer\",\"Python Developer\",\"Python Developer\",\"Python Developer\",\"Python Developer\",\"Python Developer\",\"Python Developer\",\"Python Developer\",\"Python Developer\",\"Python Developer\",\"Python Developer\",\"Python Developer\",\"Python Developer\",\"Python Developer\",\"Python Developer\",\"Python Developer\",\"Python Developer\",\"Python Developer\",\"Python Developer\",\"Python Developer\",\"Python Developer\",\"Python Developer\",\"Python Developer\",\"Python Developer\",\"Python Developer\",\"Python Developer\",\"Python Developer\",\"Python Developer\",\"Python Developer\",\"Python Developer\",\"Python Developer\",\"Python Developer\",\"Python Developer\",\"Python Developer\",\"Python Developer\",\"Python Developer\",\"DevOps Engineer\",\"DevOps Engineer\",\"DevOps Engineer\",\"DevOps Engineer\",\"DevOps Engineer\",\"DevOps Engineer\",\"DevOps Engineer\",\"DevOps Engineer\",\"DevOps Engineer\",\"DevOps Engineer\",\"DevOps Engineer\",\"DevOps Engineer\",\"DevOps Engineer\",\"DevOps Engineer\",\"DevOps Engineer\",\"DevOps Engineer\",\"DevOps Engineer\",\"DevOps Engineer\",\"DevOps Engineer\",\"DevOps Engineer\",\"DevOps Engineer\",\"DevOps Engineer\",\"DevOps Engineer\",\"DevOps Engineer\",\"DevOps Engineer\",\"DevOps Engineer\",\"DevOps Engineer\",\"DevOps Engineer\",\"DevOps Engineer\",\"DevOps Engineer\",\"DevOps Engineer\",\"DevOps Engineer\",\"DevOps Engineer\",\"DevOps Engineer\",\"DevOps Engineer\",\"DevOps Engineer\",\"DevOps Engineer\",\"DevOps Engineer\",\"DevOps Engineer\",\"DevOps Engineer\",\"DevOps Engineer\",\"DevOps Engineer\",\"DevOps Engineer\",\"DevOps Engineer\",\"DevOps Engineer\",\"DevOps Engineer\",\"DevOps Engineer\",\"DevOps Engineer\",\"DevOps Engineer\",\"DevOps Engineer\",\"DevOps Engineer\",\"DevOps Engineer\",\"DevOps Engineer\",\"DevOps Engineer\",\"DevOps Engineer\",\"Network Security Engineer\",\"Network Security Engineer\",\"Network Security Engineer\",\"Network Security Engineer\",\"Network Security Engineer\",\"Network Security Engineer\",\"Network Security Engineer\",\"Network Security Engineer\",\"Network Security Engineer\",\"Network Security Engineer\",\"Network Security Engineer\",\"Network Security Engineer\",\"Network Security Engineer\",\"Network Security Engineer\",\"Network Security Engineer\",\"Network Security Engineer\",\"Network Security Engineer\",\"Network Security Engineer\",\"Network Security Engineer\",\"Network Security Engineer\",\"Network Security Engineer\",\"Network Security Engineer\",\"Network Security Engineer\",\"Network Security Engineer\",\"Network Security Engineer\",\"PMO\",\"PMO\",\"PMO\",\"PMO\",\"PMO\",\"PMO\",\"PMO\",\"PMO\",\"PMO\",\"PMO\",\"PMO\",\"PMO\",\"PMO\",\"PMO\",\"PMO\",\"PMO\",\"PMO\",\"PMO\",\"PMO\",\"PMO\",\"PMO\",\"PMO\",\"PMO\",\"PMO\",\"PMO\",\"PMO\",\"PMO\",\"PMO\",\"PMO\",\"PMO\",\"Database\",\"Database\",\"Database\",\"Database\",\"Database\",\"Database\",\"Database\",\"Database\",\"Database\",\"Database\",\"Database\",\"Database\",\"Database\",\"Database\",\"Database\",\"Database\",\"Database\",\"Database\",\"Database\",\"Database\",\"Database\",\"Database\",\"Database\",\"Database\",\"Database\",\"Database\",\"Database\",\"Database\",\"Database\",\"Database\",\"Database\",\"Database\",\"Database\",\"Hadoop\",\"Hadoop\",\"Hadoop\",\"Hadoop\",\"Hadoop\",\"Hadoop\",\"Hadoop\",\"Hadoop\",\"Hadoop\",\"Hadoop\",\"Hadoop\",\"Hadoop\",\"Hadoop\",\"Hadoop\",\"Hadoop\",\"Hadoop\",\"Hadoop\",\"Hadoop\",\"Hadoop\",\"Hadoop\",\"Hadoop\",\"Hadoop\",\"Hadoop\",\"Hadoop\",\"Hadoop\",\"Hadoop\",\"Hadoop\",\"Hadoop\",\"Hadoop\",\"Hadoop\",\"Hadoop\",\"Hadoop\",\"Hadoop\",\"Hadoop\",\"Hadoop\",\"Hadoop\",\"Hadoop\",\"Hadoop\",\"Hadoop\",\"Hadoop\",\"Hadoop\",\"Hadoop\",\"ETL Developer\",\"ETL Developer\",\"ETL Developer\",\"ETL Developer\",\"ETL Developer\",\"ETL Developer\",\"ETL Developer\",\"ETL Developer\",\"ETL Developer\",\"ETL Developer\",\"ETL Developer\",\"ETL Developer\",\"ETL Developer\",\"ETL Developer\",\"ETL Developer\",\"ETL Developer\",\"ETL Developer\",\"ETL Developer\",\"ETL Developer\",\"ETL Developer\",\"ETL Developer\",\"ETL Developer\",\"ETL Developer\",\"ETL Developer\",\"ETL Developer\",\"ETL Developer\",\"ETL Developer\",\"ETL Developer\",\"ETL Developer\",\"ETL Developer\",\"ETL Developer\",\"ETL Developer\",\"ETL Developer\",\"ETL Developer\",\"ETL Developer\",\"ETL Developer\",\"ETL Developer\",\"ETL Developer\",\"ETL Developer\",\"ETL Developer\",\"DotNet Developer\",\"DotNet Developer\",\"DotNet Developer\",\"DotNet Developer\",\"DotNet Developer\",\"DotNet Developer\",\"DotNet Developer\",\"DotNet Developer\",\"DotNet Developer\",\"DotNet Developer\",\"DotNet Developer\",\"DotNet Developer\",\"DotNet Developer\",\"DotNet Developer\",\"DotNet Developer\",\"DotNet Developer\",\"DotNet Developer\",\"DotNet Developer\",\"DotNet Developer\",\"DotNet Developer\",\"DotNet Developer\",\"DotNet Developer\",\"DotNet Developer\",\"DotNet Developer\",\"DotNet Developer\",\"DotNet Developer\",\"DotNet Developer\",\"DotNet Developer\",\"Blockchain\",\"Blockchain\",\"Blockchain\",\"Blockchain\",\"Blockchain\",\"Blockchain\",\"Blockchain\",\"Blockchain\",\"Blockchain\",\"Blockchain\",\"Blockchain\",\"Blockchain\",\"Blockchain\",\"Blockchain\",\"Blockchain\",\"Blockchain\",\"Blockchain\",\"Blockchain\",\"Blockchain\",\"Blockchain\",\"Blockchain\",\"Blockchain\",\"Blockchain\",\"Blockchain\",\"Blockchain\",\"Blockchain\",\"Blockchain\",\"Blockchain\",\"Blockchain\",\"Blockchain\",\"Blockchain\",\"Blockchain\",\"Blockchain\",\"Blockchain\",\"Blockchain\",\"Blockchain\",\"Blockchain\",\"Blockchain\",\"Blockchain\",\"Blockchain\",\"Testing\",\"Testing\",\"Testing\",\"Testing\",\"Testing\",\"Testing\",\"Testing\",\"Testing\",\"Testing\",\"Testing\",\"Testing\",\"Testing\",\"Testing\",\"Testing\",\"Testing\",\"Testing\",\"Testing\",\"Testing\",\"Testing\",\"Testing\",\"Testing\",\"Testing\",\"Testing\",\"Testing\",\"Testing\",\"Testing\",\"Testing\",\"Testing\",\"Testing\",\"Testing\",\"Testing\",\"Testing\",\"Testing\",\"Testing\",\"Testing\",\"Testing\",\"Testing\",\"Testing\",\"Testing\",\"Testing\",\"Testing\",\"Testing\",\"Testing\",\"Testing\",\"Testing\",\"Testing\",\"Testing\",\"Testing\",\"Testing\",\"Testing\",\"Testing\",\"Testing\",\"Testing\",\"Testing\",\"Testing\",\"Testing\",\"Testing\",\"Testing\",\"Testing\",\"Testing\",\"Testing\",\"Testing\",\"Testing\",\"Testing\",\"Testing\",\"Testing\",\"Testing\",\"Testing\",\"Testing\",\"Testing\"],\"xaxis\":\"x\",\"yaxis\":\"y\",\"type\":\"histogram\"}],                        {\"template\":{\"data\":{\"bar\":[{\"error_x\":{\"color\":\"#2a3f5f\"},\"error_y\":{\"color\":\"#2a3f5f\"},\"marker\":{\"line\":{\"color\":\"#E5ECF6\",\"width\":0.5},\"pattern\":{\"fillmode\":\"overlay\",\"size\":10,\"solidity\":0.2}},\"type\":\"bar\"}],\"barpolar\":[{\"marker\":{\"line\":{\"color\":\"#E5ECF6\",\"width\":0.5},\"pattern\":{\"fillmode\":\"overlay\",\"size\":10,\"solidity\":0.2}},\"type\":\"barpolar\"}],\"carpet\":[{\"aaxis\":{\"endlinecolor\":\"#2a3f5f\",\"gridcolor\":\"white\",\"linecolor\":\"white\",\"minorgridcolor\":\"white\",\"startlinecolor\":\"#2a3f5f\"},\"baxis\":{\"endlinecolor\":\"#2a3f5f\",\"gridcolor\":\"white\",\"linecolor\":\"white\",\"minorgridcolor\":\"white\",\"startlinecolor\":\"#2a3f5f\"},\"type\":\"carpet\"}],\"choropleth\":[{\"colorbar\":{\"outlinewidth\":0,\"ticks\":\"\"},\"type\":\"choropleth\"}],\"contour\":[{\"colorbar\":{\"outlinewidth\":0,\"ticks\":\"\"},\"colorscale\":[[0.0,\"#0d0887\"],[0.1111111111111111,\"#46039f\"],[0.2222222222222222,\"#7201a8\"],[0.3333333333333333,\"#9c179e\"],[0.4444444444444444,\"#bd3786\"],[0.5555555555555556,\"#d8576b\"],[0.6666666666666666,\"#ed7953\"],[0.7777777777777778,\"#fb9f3a\"],[0.8888888888888888,\"#fdca26\"],[1.0,\"#f0f921\"]],\"type\":\"contour\"}],\"contourcarpet\":[{\"colorbar\":{\"outlinewidth\":0,\"ticks\":\"\"},\"type\":\"contourcarpet\"}],\"heatmap\":[{\"colorbar\":{\"outlinewidth\":0,\"ticks\":\"\"},\"colorscale\":[[0.0,\"#0d0887\"],[0.1111111111111111,\"#46039f\"],[0.2222222222222222,\"#7201a8\"],[0.3333333333333333,\"#9c179e\"],[0.4444444444444444,\"#bd3786\"],[0.5555555555555556,\"#d8576b\"],[0.6666666666666666,\"#ed7953\"],[0.7777777777777778,\"#fb9f3a\"],[0.8888888888888888,\"#fdca26\"],[1.0,\"#f0f921\"]],\"type\":\"heatmap\"}],\"heatmapgl\":[{\"colorbar\":{\"outlinewidth\":0,\"ticks\":\"\"},\"colorscale\":[[0.0,\"#0d0887\"],[0.1111111111111111,\"#46039f\"],[0.2222222222222222,\"#7201a8\"],[0.3333333333333333,\"#9c179e\"],[0.4444444444444444,\"#bd3786\"],[0.5555555555555556,\"#d8576b\"],[0.6666666666666666,\"#ed7953\"],[0.7777777777777778,\"#fb9f3a\"],[0.8888888888888888,\"#fdca26\"],[1.0,\"#f0f921\"]],\"type\":\"heatmapgl\"}],\"histogram\":[{\"marker\":{\"pattern\":{\"fillmode\":\"overlay\",\"size\":10,\"solidity\":0.2}},\"type\":\"histogram\"}],\"histogram2d\":[{\"colorbar\":{\"outlinewidth\":0,\"ticks\":\"\"},\"colorscale\":[[0.0,\"#0d0887\"],[0.1111111111111111,\"#46039f\"],[0.2222222222222222,\"#7201a8\"],[0.3333333333333333,\"#9c179e\"],[0.4444444444444444,\"#bd3786\"],[0.5555555555555556,\"#d8576b\"],[0.6666666666666666,\"#ed7953\"],[0.7777777777777778,\"#fb9f3a\"],[0.8888888888888888,\"#fdca26\"],[1.0,\"#f0f921\"]],\"type\":\"histogram2d\"}],\"histogram2dcontour\":[{\"colorbar\":{\"outlinewidth\":0,\"ticks\":\"\"},\"colorscale\":[[0.0,\"#0d0887\"],[0.1111111111111111,\"#46039f\"],[0.2222222222222222,\"#7201a8\"],[0.3333333333333333,\"#9c179e\"],[0.4444444444444444,\"#bd3786\"],[0.5555555555555556,\"#d8576b\"],[0.6666666666666666,\"#ed7953\"],[0.7777777777777778,\"#fb9f3a\"],[0.8888888888888888,\"#fdca26\"],[1.0,\"#f0f921\"]],\"type\":\"histogram2dcontour\"}],\"mesh3d\":[{\"colorbar\":{\"outlinewidth\":0,\"ticks\":\"\"},\"type\":\"mesh3d\"}],\"parcoords\":[{\"line\":{\"colorbar\":{\"outlinewidth\":0,\"ticks\":\"\"}},\"type\":\"parcoords\"}],\"pie\":[{\"automargin\":true,\"type\":\"pie\"}],\"scatter\":[{\"marker\":{\"colorbar\":{\"outlinewidth\":0,\"ticks\":\"\"}},\"type\":\"scatter\"}],\"scatter3d\":[{\"line\":{\"colorbar\":{\"outlinewidth\":0,\"ticks\":\"\"}},\"marker\":{\"colorbar\":{\"outlinewidth\":0,\"ticks\":\"\"}},\"type\":\"scatter3d\"}],\"scattercarpet\":[{\"marker\":{\"colorbar\":{\"outlinewidth\":0,\"ticks\":\"\"}},\"type\":\"scattercarpet\"}],\"scattergeo\":[{\"marker\":{\"colorbar\":{\"outlinewidth\":0,\"ticks\":\"\"}},\"type\":\"scattergeo\"}],\"scattergl\":[{\"marker\":{\"colorbar\":{\"outlinewidth\":0,\"ticks\":\"\"}},\"type\":\"scattergl\"}],\"scattermapbox\":[{\"marker\":{\"colorbar\":{\"outlinewidth\":0,\"ticks\":\"\"}},\"type\":\"scattermapbox\"}],\"scatterpolar\":[{\"marker\":{\"colorbar\":{\"outlinewidth\":0,\"ticks\":\"\"}},\"type\":\"scatterpolar\"}],\"scatterpolargl\":[{\"marker\":{\"colorbar\":{\"outlinewidth\":0,\"ticks\":\"\"}},\"type\":\"scatterpolargl\"}],\"scatterternary\":[{\"marker\":{\"colorbar\":{\"outlinewidth\":0,\"ticks\":\"\"}},\"type\":\"scatterternary\"}],\"surface\":[{\"colorbar\":{\"outlinewidth\":0,\"ticks\":\"\"},\"colorscale\":[[0.0,\"#0d0887\"],[0.1111111111111111,\"#46039f\"],[0.2222222222222222,\"#7201a8\"],[0.3333333333333333,\"#9c179e\"],[0.4444444444444444,\"#bd3786\"],[0.5555555555555556,\"#d8576b\"],[0.6666666666666666,\"#ed7953\"],[0.7777777777777778,\"#fb9f3a\"],[0.8888888888888888,\"#fdca26\"],[1.0,\"#f0f921\"]],\"type\":\"surface\"}],\"table\":[{\"cells\":{\"fill\":{\"color\":\"#EBF0F8\"},\"line\":{\"color\":\"white\"}},\"header\":{\"fill\":{\"color\":\"#C8D4E3\"},\"line\":{\"color\":\"white\"}},\"type\":\"table\"}]},\"layout\":{\"annotationdefaults\":{\"arrowcolor\":\"#2a3f5f\",\"arrowhead\":0,\"arrowwidth\":1},\"autotypenumbers\":\"strict\",\"coloraxis\":{\"colorbar\":{\"outlinewidth\":0,\"ticks\":\"\"}},\"colorscale\":{\"diverging\":[[0,\"#8e0152\"],[0.1,\"#c51b7d\"],[0.2,\"#de77ae\"],[0.3,\"#f1b6da\"],[0.4,\"#fde0ef\"],[0.5,\"#f7f7f7\"],[0.6,\"#e6f5d0\"],[0.7,\"#b8e186\"],[0.8,\"#7fbc41\"],[0.9,\"#4d9221\"],[1,\"#276419\"]],\"sequential\":[[0.0,\"#0d0887\"],[0.1111111111111111,\"#46039f\"],[0.2222222222222222,\"#7201a8\"],[0.3333333333333333,\"#9c179e\"],[0.4444444444444444,\"#bd3786\"],[0.5555555555555556,\"#d8576b\"],[0.6666666666666666,\"#ed7953\"],[0.7777777777777778,\"#fb9f3a\"],[0.8888888888888888,\"#fdca26\"],[1.0,\"#f0f921\"]],\"sequentialminus\":[[0.0,\"#0d0887\"],[0.1111111111111111,\"#46039f\"],[0.2222222222222222,\"#7201a8\"],[0.3333333333333333,\"#9c179e\"],[0.4444444444444444,\"#bd3786\"],[0.5555555555555556,\"#d8576b\"],[0.6666666666666666,\"#ed7953\"],[0.7777777777777778,\"#fb9f3a\"],[0.8888888888888888,\"#fdca26\"],[1.0,\"#f0f921\"]]},\"colorway\":[\"#636efa\",\"#EF553B\",\"#00cc96\",\"#ab63fa\",\"#FFA15A\",\"#19d3f3\",\"#FF6692\",\"#B6E880\",\"#FF97FF\",\"#FECB52\"],\"font\":{\"color\":\"#2a3f5f\"},\"geo\":{\"bgcolor\":\"white\",\"lakecolor\":\"white\",\"landcolor\":\"#E5ECF6\",\"showlakes\":true,\"showland\":true,\"subunitcolor\":\"white\"},\"hoverlabel\":{\"align\":\"left\"},\"hovermode\":\"closest\",\"mapbox\":{\"style\":\"light\"},\"paper_bgcolor\":\"white\",\"plot_bgcolor\":\"#E5ECF6\",\"polar\":{\"angularaxis\":{\"gridcolor\":\"white\",\"linecolor\":\"white\",\"ticks\":\"\"},\"bgcolor\":\"#E5ECF6\",\"radialaxis\":{\"gridcolor\":\"white\",\"linecolor\":\"white\",\"ticks\":\"\"}},\"scene\":{\"xaxis\":{\"backgroundcolor\":\"#E5ECF6\",\"gridcolor\":\"white\",\"gridwidth\":2,\"linecolor\":\"white\",\"showbackground\":true,\"ticks\":\"\",\"zerolinecolor\":\"white\"},\"yaxis\":{\"backgroundcolor\":\"#E5ECF6\",\"gridcolor\":\"white\",\"gridwidth\":2,\"linecolor\":\"white\",\"showbackground\":true,\"ticks\":\"\",\"zerolinecolor\":\"white\"},\"zaxis\":{\"backgroundcolor\":\"#E5ECF6\",\"gridcolor\":\"white\",\"gridwidth\":2,\"linecolor\":\"white\",\"showbackground\":true,\"ticks\":\"\",\"zerolinecolor\":\"white\"}},\"shapedefaults\":{\"line\":{\"color\":\"#2a3f5f\"}},\"ternary\":{\"aaxis\":{\"gridcolor\":\"white\",\"linecolor\":\"white\",\"ticks\":\"\"},\"baxis\":{\"gridcolor\":\"white\",\"linecolor\":\"white\",\"ticks\":\"\"},\"bgcolor\":\"#E5ECF6\",\"caxis\":{\"gridcolor\":\"white\",\"linecolor\":\"white\",\"ticks\":\"\"}},\"title\":{\"x\":0.05},\"xaxis\":{\"automargin\":true,\"gridcolor\":\"white\",\"linecolor\":\"white\",\"ticks\":\"\",\"title\":{\"standoff\":15},\"zerolinecolor\":\"white\",\"zerolinewidth\":2},\"yaxis\":{\"automargin\":true,\"gridcolor\":\"white\",\"linecolor\":\"white\",\"ticks\":\"\",\"title\":{\"standoff\":15},\"zerolinecolor\":\"white\",\"zerolinewidth\":2}}},\"xaxis\":{\"anchor\":\"y\",\"domain\":[0.0,1.0],\"title\":{\"text\":\"Category\"},\"categoryorder\":\"total descending\"},\"yaxis\":{\"anchor\":\"x\",\"domain\":[0.0,1.0],\"title\":{\"text\":\"count\"}},\"legend\":{\"tracegroupgap\":0},\"title\":{\"text\":\"Distribution of Jobs Categories\"},\"barmode\":\"relative\"},                        {\"responsive\": true}                    ).then(function(){\n",
              "                            \n",
              "var gd = document.getElementById('37b8017a-de91-484a-9cb3-ecbc3974f9ff');\n",
              "var x = new MutationObserver(function (mutations, observer) {{\n",
              "        var display = window.getComputedStyle(gd).display;\n",
              "        if (!display || display === 'none') {{\n",
              "            console.log([gd, 'removed!']);\n",
              "            Plotly.purge(gd);\n",
              "            observer.disconnect();\n",
              "        }}\n",
              "}});\n",
              "\n",
              "// Listen for the removal of the full notebook cells\n",
              "var notebookContainer = gd.closest('#notebook-container');\n",
              "if (notebookContainer) {{\n",
              "    x.observe(notebookContainer, {childList: true});\n",
              "}}\n",
              "\n",
              "// Listen for the clearing of the current output cell\n",
              "var outputEl = gd.closest('.output');\n",
              "if (outputEl) {{\n",
              "    x.observe(outputEl, {childList: true});\n",
              "}}\n",
              "\n",
              "                        })                };                            </script>        </div>\n",
              "</body>\n",
              "</html>"
            ]
          },
          "metadata": {}
        }
      ]
    },
    {
      "cell_type": "markdown",
      "source": [
        "Jobs Distribution : - From the above bar chart we can see that there are 25 different categories we have in the data.\n",
        "\n",
        "The top 3 job categories we have in the data are as follows.\n",
        "\n",
        "Java developer, Testing, and DevOps Engineer."
      ],
      "metadata": {
        "id": "y1urAYMQQzwD"
      }
    },
    {
      "cell_type": "code",
      "source": [
        "series = df['Category'].value_counts()\n",
        "\n",
        "df_result = pd.DataFrame(series)\n",
        "\n",
        "df_result = df_result.reset_index()  \n",
        "\n",
        "df_result.columns = ['Category', 'Total']\n",
        "\n",
        "print(df_result)"
      ],
      "metadata": {
        "colab": {
          "base_uri": "https://localhost:8080/"
        },
        "id": "BTYbqwN2Q0a8",
        "outputId": "9ffb4c63-1ee7-4b95-f4ed-7f37de1eda37"
      },
      "execution_count": 11,
      "outputs": [
        {
          "output_type": "stream",
          "name": "stdout",
          "text": [
            "                     Category  Total\n",
            "0              Java Developer     84\n",
            "1                     Testing     70\n",
            "2             DevOps Engineer     55\n",
            "3            Python Developer     48\n",
            "4               Web Designing     45\n",
            "5                          HR     44\n",
            "6                      Hadoop     42\n",
            "7                  Blockchain     40\n",
            "8               ETL Developer     40\n",
            "9          Operations Manager     40\n",
            "10               Data Science     40\n",
            "11                      Sales     40\n",
            "12        Mechanical Engineer     40\n",
            "13                       Arts     36\n",
            "14                   Database     33\n",
            "15     Electrical Engineering     30\n",
            "16         Health and fitness     30\n",
            "17                        PMO     30\n",
            "18           Business Analyst     28\n",
            "19           DotNet Developer     28\n",
            "20         Automation Testing     26\n",
            "21  Network Security Engineer     25\n",
            "22              SAP Developer     24\n",
            "23             Civil Engineer     24\n",
            "24                   Advocate     20\n"
          ]
        }
      ]
    },
    {
      "cell_type": "code",
      "source": [
        "df_result_part = df_result.head(21)\n",
        "print(df_result_part)"
      ],
      "metadata": {
        "colab": {
          "base_uri": "https://localhost:8080/"
        },
        "id": "B2jsSBS4Q4E0",
        "outputId": "c4cfc4f2-01b6-433c-f592-782ec3bc9bdc"
      },
      "execution_count": 12,
      "outputs": [
        {
          "output_type": "stream",
          "name": "stdout",
          "text": [
            "                  Category  Total\n",
            "0           Java Developer     84\n",
            "1                  Testing     70\n",
            "2          DevOps Engineer     55\n",
            "3         Python Developer     48\n",
            "4            Web Designing     45\n",
            "5                       HR     44\n",
            "6                   Hadoop     42\n",
            "7               Blockchain     40\n",
            "8            ETL Developer     40\n",
            "9       Operations Manager     40\n",
            "10            Data Science     40\n",
            "11                   Sales     40\n",
            "12     Mechanical Engineer     40\n",
            "13                    Arts     36\n",
            "14                Database     33\n",
            "15  Electrical Engineering     30\n",
            "16      Health and fitness     30\n",
            "17                     PMO     30\n",
            "18        Business Analyst     28\n",
            "19        DotNet Developer     28\n",
            "20      Automation Testing     26\n"
          ]
        }
      ]
    },
    {
      "cell_type": "code",
      "source": [
        "fig = px.pie(df_result_part,\n",
        "                 values='Total',\n",
        "                 names='Category')\n",
        "\n",
        "fig.show()"
      ],
      "metadata": {
        "colab": {
          "base_uri": "https://localhost:8080/",
          "height": 542
        },
        "id": "WdXW9qJyQ6Nt",
        "outputId": "f55ecd1b-abe2-46d6-cd2a-2ed47c575162"
      },
      "execution_count": 13,
      "outputs": [
        {
          "output_type": "display_data",
          "data": {
            "text/html": [
              "<html>\n",
              "<head><meta charset=\"utf-8\" /></head>\n",
              "<body>\n",
              "    <div>            <script src=\"https://cdnjs.cloudflare.com/ajax/libs/mathjax/2.7.5/MathJax.js?config=TeX-AMS-MML_SVG\"></script><script type=\"text/javascript\">if (window.MathJax) {MathJax.Hub.Config({SVG: {font: \"STIX-Web\"}});}</script>                <script type=\"text/javascript\">window.PlotlyConfig = {MathJaxConfig: 'local'};</script>\n",
              "        <script src=\"https://cdn.plot.ly/plotly-2.8.3.min.js\"></script>                <div id=\"bd941d2b-b7ee-4d76-ba40-85ca6746f9ec\" class=\"plotly-graph-div\" style=\"height:525px; width:100%;\"></div>            <script type=\"text/javascript\">                                    window.PLOTLYENV=window.PLOTLYENV || {};                                    if (document.getElementById(\"bd941d2b-b7ee-4d76-ba40-85ca6746f9ec\")) {                    Plotly.newPlot(                        \"bd941d2b-b7ee-4d76-ba40-85ca6746f9ec\",                        [{\"domain\":{\"x\":[0.0,1.0],\"y\":[0.0,1.0]},\"hovertemplate\":\"Category=%{label}<br>Total=%{value}<extra></extra>\",\"labels\":[\"Java Developer\",\"Testing\",\"DevOps Engineer\",\"Python Developer\",\"Web Designing\",\"HR\",\"Hadoop\",\"Blockchain\",\"ETL Developer\",\"Operations Manager\",\"Data Science\",\"Sales\",\"Mechanical Engineer\",\"Arts\",\"Database\",\"Electrical Engineering\",\"Health and fitness\",\"PMO\",\"Business Analyst\",\"DotNet Developer\",\"Automation Testing\"],\"legendgroup\":\"\",\"name\":\"\",\"showlegend\":true,\"values\":[84,70,55,48,45,44,42,40,40,40,40,40,40,36,33,30,30,30,28,28,26],\"type\":\"pie\"}],                        {\"template\":{\"data\":{\"bar\":[{\"error_x\":{\"color\":\"#2a3f5f\"},\"error_y\":{\"color\":\"#2a3f5f\"},\"marker\":{\"line\":{\"color\":\"#E5ECF6\",\"width\":0.5},\"pattern\":{\"fillmode\":\"overlay\",\"size\":10,\"solidity\":0.2}},\"type\":\"bar\"}],\"barpolar\":[{\"marker\":{\"line\":{\"color\":\"#E5ECF6\",\"width\":0.5},\"pattern\":{\"fillmode\":\"overlay\",\"size\":10,\"solidity\":0.2}},\"type\":\"barpolar\"}],\"carpet\":[{\"aaxis\":{\"endlinecolor\":\"#2a3f5f\",\"gridcolor\":\"white\",\"linecolor\":\"white\",\"minorgridcolor\":\"white\",\"startlinecolor\":\"#2a3f5f\"},\"baxis\":{\"endlinecolor\":\"#2a3f5f\",\"gridcolor\":\"white\",\"linecolor\":\"white\",\"minorgridcolor\":\"white\",\"startlinecolor\":\"#2a3f5f\"},\"type\":\"carpet\"}],\"choropleth\":[{\"colorbar\":{\"outlinewidth\":0,\"ticks\":\"\"},\"type\":\"choropleth\"}],\"contour\":[{\"colorbar\":{\"outlinewidth\":0,\"ticks\":\"\"},\"colorscale\":[[0.0,\"#0d0887\"],[0.1111111111111111,\"#46039f\"],[0.2222222222222222,\"#7201a8\"],[0.3333333333333333,\"#9c179e\"],[0.4444444444444444,\"#bd3786\"],[0.5555555555555556,\"#d8576b\"],[0.6666666666666666,\"#ed7953\"],[0.7777777777777778,\"#fb9f3a\"],[0.8888888888888888,\"#fdca26\"],[1.0,\"#f0f921\"]],\"type\":\"contour\"}],\"contourcarpet\":[{\"colorbar\":{\"outlinewidth\":0,\"ticks\":\"\"},\"type\":\"contourcarpet\"}],\"heatmap\":[{\"colorbar\":{\"outlinewidth\":0,\"ticks\":\"\"},\"colorscale\":[[0.0,\"#0d0887\"],[0.1111111111111111,\"#46039f\"],[0.2222222222222222,\"#7201a8\"],[0.3333333333333333,\"#9c179e\"],[0.4444444444444444,\"#bd3786\"],[0.5555555555555556,\"#d8576b\"],[0.6666666666666666,\"#ed7953\"],[0.7777777777777778,\"#fb9f3a\"],[0.8888888888888888,\"#fdca26\"],[1.0,\"#f0f921\"]],\"type\":\"heatmap\"}],\"heatmapgl\":[{\"colorbar\":{\"outlinewidth\":0,\"ticks\":\"\"},\"colorscale\":[[0.0,\"#0d0887\"],[0.1111111111111111,\"#46039f\"],[0.2222222222222222,\"#7201a8\"],[0.3333333333333333,\"#9c179e\"],[0.4444444444444444,\"#bd3786\"],[0.5555555555555556,\"#d8576b\"],[0.6666666666666666,\"#ed7953\"],[0.7777777777777778,\"#fb9f3a\"],[0.8888888888888888,\"#fdca26\"],[1.0,\"#f0f921\"]],\"type\":\"heatmapgl\"}],\"histogram\":[{\"marker\":{\"pattern\":{\"fillmode\":\"overlay\",\"size\":10,\"solidity\":0.2}},\"type\":\"histogram\"}],\"histogram2d\":[{\"colorbar\":{\"outlinewidth\":0,\"ticks\":\"\"},\"colorscale\":[[0.0,\"#0d0887\"],[0.1111111111111111,\"#46039f\"],[0.2222222222222222,\"#7201a8\"],[0.3333333333333333,\"#9c179e\"],[0.4444444444444444,\"#bd3786\"],[0.5555555555555556,\"#d8576b\"],[0.6666666666666666,\"#ed7953\"],[0.7777777777777778,\"#fb9f3a\"],[0.8888888888888888,\"#fdca26\"],[1.0,\"#f0f921\"]],\"type\":\"histogram2d\"}],\"histogram2dcontour\":[{\"colorbar\":{\"outlinewidth\":0,\"ticks\":\"\"},\"colorscale\":[[0.0,\"#0d0887\"],[0.1111111111111111,\"#46039f\"],[0.2222222222222222,\"#7201a8\"],[0.3333333333333333,\"#9c179e\"],[0.4444444444444444,\"#bd3786\"],[0.5555555555555556,\"#d8576b\"],[0.6666666666666666,\"#ed7953\"],[0.7777777777777778,\"#fb9f3a\"],[0.8888888888888888,\"#fdca26\"],[1.0,\"#f0f921\"]],\"type\":\"histogram2dcontour\"}],\"mesh3d\":[{\"colorbar\":{\"outlinewidth\":0,\"ticks\":\"\"},\"type\":\"mesh3d\"}],\"parcoords\":[{\"line\":{\"colorbar\":{\"outlinewidth\":0,\"ticks\":\"\"}},\"type\":\"parcoords\"}],\"pie\":[{\"automargin\":true,\"type\":\"pie\"}],\"scatter\":[{\"marker\":{\"colorbar\":{\"outlinewidth\":0,\"ticks\":\"\"}},\"type\":\"scatter\"}],\"scatter3d\":[{\"line\":{\"colorbar\":{\"outlinewidth\":0,\"ticks\":\"\"}},\"marker\":{\"colorbar\":{\"outlinewidth\":0,\"ticks\":\"\"}},\"type\":\"scatter3d\"}],\"scattercarpet\":[{\"marker\":{\"colorbar\":{\"outlinewidth\":0,\"ticks\":\"\"}},\"type\":\"scattercarpet\"}],\"scattergeo\":[{\"marker\":{\"colorbar\":{\"outlinewidth\":0,\"ticks\":\"\"}},\"type\":\"scattergeo\"}],\"scattergl\":[{\"marker\":{\"colorbar\":{\"outlinewidth\":0,\"ticks\":\"\"}},\"type\":\"scattergl\"}],\"scattermapbox\":[{\"marker\":{\"colorbar\":{\"outlinewidth\":0,\"ticks\":\"\"}},\"type\":\"scattermapbox\"}],\"scatterpolar\":[{\"marker\":{\"colorbar\":{\"outlinewidth\":0,\"ticks\":\"\"}},\"type\":\"scatterpolar\"}],\"scatterpolargl\":[{\"marker\":{\"colorbar\":{\"outlinewidth\":0,\"ticks\":\"\"}},\"type\":\"scatterpolargl\"}],\"scatterternary\":[{\"marker\":{\"colorbar\":{\"outlinewidth\":0,\"ticks\":\"\"}},\"type\":\"scatterternary\"}],\"surface\":[{\"colorbar\":{\"outlinewidth\":0,\"ticks\":\"\"},\"colorscale\":[[0.0,\"#0d0887\"],[0.1111111111111111,\"#46039f\"],[0.2222222222222222,\"#7201a8\"],[0.3333333333333333,\"#9c179e\"],[0.4444444444444444,\"#bd3786\"],[0.5555555555555556,\"#d8576b\"],[0.6666666666666666,\"#ed7953\"],[0.7777777777777778,\"#fb9f3a\"],[0.8888888888888888,\"#fdca26\"],[1.0,\"#f0f921\"]],\"type\":\"surface\"}],\"table\":[{\"cells\":{\"fill\":{\"color\":\"#EBF0F8\"},\"line\":{\"color\":\"white\"}},\"header\":{\"fill\":{\"color\":\"#C8D4E3\"},\"line\":{\"color\":\"white\"}},\"type\":\"table\"}]},\"layout\":{\"annotationdefaults\":{\"arrowcolor\":\"#2a3f5f\",\"arrowhead\":0,\"arrowwidth\":1},\"autotypenumbers\":\"strict\",\"coloraxis\":{\"colorbar\":{\"outlinewidth\":0,\"ticks\":\"\"}},\"colorscale\":{\"diverging\":[[0,\"#8e0152\"],[0.1,\"#c51b7d\"],[0.2,\"#de77ae\"],[0.3,\"#f1b6da\"],[0.4,\"#fde0ef\"],[0.5,\"#f7f7f7\"],[0.6,\"#e6f5d0\"],[0.7,\"#b8e186\"],[0.8,\"#7fbc41\"],[0.9,\"#4d9221\"],[1,\"#276419\"]],\"sequential\":[[0.0,\"#0d0887\"],[0.1111111111111111,\"#46039f\"],[0.2222222222222222,\"#7201a8\"],[0.3333333333333333,\"#9c179e\"],[0.4444444444444444,\"#bd3786\"],[0.5555555555555556,\"#d8576b\"],[0.6666666666666666,\"#ed7953\"],[0.7777777777777778,\"#fb9f3a\"],[0.8888888888888888,\"#fdca26\"],[1.0,\"#f0f921\"]],\"sequentialminus\":[[0.0,\"#0d0887\"],[0.1111111111111111,\"#46039f\"],[0.2222222222222222,\"#7201a8\"],[0.3333333333333333,\"#9c179e\"],[0.4444444444444444,\"#bd3786\"],[0.5555555555555556,\"#d8576b\"],[0.6666666666666666,\"#ed7953\"],[0.7777777777777778,\"#fb9f3a\"],[0.8888888888888888,\"#fdca26\"],[1.0,\"#f0f921\"]]},\"colorway\":[\"#636efa\",\"#EF553B\",\"#00cc96\",\"#ab63fa\",\"#FFA15A\",\"#19d3f3\",\"#FF6692\",\"#B6E880\",\"#FF97FF\",\"#FECB52\"],\"font\":{\"color\":\"#2a3f5f\"},\"geo\":{\"bgcolor\":\"white\",\"lakecolor\":\"white\",\"landcolor\":\"#E5ECF6\",\"showlakes\":true,\"showland\":true,\"subunitcolor\":\"white\"},\"hoverlabel\":{\"align\":\"left\"},\"hovermode\":\"closest\",\"mapbox\":{\"style\":\"light\"},\"paper_bgcolor\":\"white\",\"plot_bgcolor\":\"#E5ECF6\",\"polar\":{\"angularaxis\":{\"gridcolor\":\"white\",\"linecolor\":\"white\",\"ticks\":\"\"},\"bgcolor\":\"#E5ECF6\",\"radialaxis\":{\"gridcolor\":\"white\",\"linecolor\":\"white\",\"ticks\":\"\"}},\"scene\":{\"xaxis\":{\"backgroundcolor\":\"#E5ECF6\",\"gridcolor\":\"white\",\"gridwidth\":2,\"linecolor\":\"white\",\"showbackground\":true,\"ticks\":\"\",\"zerolinecolor\":\"white\"},\"yaxis\":{\"backgroundcolor\":\"#E5ECF6\",\"gridcolor\":\"white\",\"gridwidth\":2,\"linecolor\":\"white\",\"showbackground\":true,\"ticks\":\"\",\"zerolinecolor\":\"white\"},\"zaxis\":{\"backgroundcolor\":\"#E5ECF6\",\"gridcolor\":\"white\",\"gridwidth\":2,\"linecolor\":\"white\",\"showbackground\":true,\"ticks\":\"\",\"zerolinecolor\":\"white\"}},\"shapedefaults\":{\"line\":{\"color\":\"#2a3f5f\"}},\"ternary\":{\"aaxis\":{\"gridcolor\":\"white\",\"linecolor\":\"white\",\"ticks\":\"\"},\"baxis\":{\"gridcolor\":\"white\",\"linecolor\":\"white\",\"ticks\":\"\"},\"bgcolor\":\"#E5ECF6\",\"caxis\":{\"gridcolor\":\"white\",\"linecolor\":\"white\",\"ticks\":\"\"}},\"title\":{\"x\":0.05},\"xaxis\":{\"automargin\":true,\"gridcolor\":\"white\",\"linecolor\":\"white\",\"ticks\":\"\",\"title\":{\"standoff\":15},\"zerolinecolor\":\"white\",\"zerolinewidth\":2},\"yaxis\":{\"automargin\":true,\"gridcolor\":\"white\",\"linecolor\":\"white\",\"ticks\":\"\",\"title\":{\"standoff\":15},\"zerolinecolor\":\"white\",\"zerolinewidth\":2}}},\"legend\":{\"tracegroupgap\":0},\"margin\":{\"t\":60}},                        {\"responsive\": true}                    ).then(function(){\n",
              "                            \n",
              "var gd = document.getElementById('bd941d2b-b7ee-4d76-ba40-85ca6746f9ec');\n",
              "var x = new MutationObserver(function (mutations, observer) {{\n",
              "        var display = window.getComputedStyle(gd).display;\n",
              "        if (!display || display === 'none') {{\n",
              "            console.log([gd, 'removed!']);\n",
              "            Plotly.purge(gd);\n",
              "            observer.disconnect();\n",
              "        }}\n",
              "}});\n",
              "\n",
              "// Listen for the removal of the full notebook cells\n",
              "var notebookContainer = gd.closest('#notebook-container');\n",
              "if (notebookContainer) {{\n",
              "    x.observe(notebookContainer, {childList: true});\n",
              "}}\n",
              "\n",
              "// Listen for the clearing of the current output cell\n",
              "var outputEl = gd.closest('.output');\n",
              "if (outputEl) {{\n",
              "    x.observe(outputEl, {childList: true});\n",
              "}}\n",
              "\n",
              "                        })                };                            </script>        </div>\n",
              "</body>\n",
              "</html>"
            ]
          },
          "metadata": {}
        }
      ]
    },
    {
      "cell_type": "markdown",
      "source": [
        "##**Data Preprocessing**"
      ],
      "metadata": {
        "id": "2a62KWkLRBDD"
      }
    },
    {
      "cell_type": "markdown",
      "source": [
        "**we remove any unnecessary information from resumes like URLs, hashtags, and special characters**."
      ],
      "metadata": {
        "id": "4Wg5a7SERE8X"
      }
    },
    {
      "cell_type": "code",
      "source": [
        "def cleanResume(resumeText):\n",
        "    resumeText = re.sub('http\\S+\\s*', ' ', resumeText)  # remove URLs\n",
        "    resumeText = re.sub('RT|cc', ' ', resumeText)  # remove RT and cc\n",
        "    resumeText = re.sub('#\\S+', '', resumeText)  # remove hashtags\n",
        "    resumeText = re.sub('@\\S+', '  ', resumeText)  # remove mentions\n",
        "    resumeText = re.sub('[%s]' % re.escape(\"\"\"!\"#$%&'()*+,-./:;<=>?@[\\]^_`{|}~\"\"\"), ' ', resumeText)  # remove punctuations\n",
        "    resumeText = re.sub(r'[^\\x00-\\x7f]',r' ', resumeText) \n",
        "    resumeText = re.sub('\\s+', ' ', resumeText)  # remove extra whitespace\n",
        "    return resumeText\n",
        "    \n",
        "df['cleaned_resume'] = df.Resume.apply(lambda x: cleanResume(x))"
      ],
      "metadata": {
        "id": "aTiHJ30rRCrd"
      },
      "execution_count": 14,
      "outputs": []
    },
    {
      "cell_type": "code",
      "source": [
        "df.head()\n"
      ],
      "metadata": {
        "colab": {
          "base_uri": "https://localhost:8080/",
          "height": 206
        },
        "id": "sYBO8L0dRQ1F",
        "outputId": "a5ee60d7-cc68-4a50-ce70-df0d958af57e"
      },
      "execution_count": 15,
      "outputs": [
        {
          "output_type": "execute_result",
          "data": {
            "text/plain": [
              "       Category                                             Resume  \\\n",
              "0  Data Science  Skills * Programming Languages: Python (pandas...   \n",
              "1  Data Science  Education Details \\r\\nMay 2013 to May 2017 B.E...   \n",
              "2  Data Science  Areas of Interest Deep Learning, Control Syste...   \n",
              "3  Data Science  Skills â¢ R â¢ Python â¢ SAP HANA â¢ Table...   \n",
              "4  Data Science  Education Details \\r\\n MCA   YMCAUST,  Faridab...   \n",
              "\n",
              "                                      cleaned_resume  \n",
              "0  Skills Programming Languages Python pandas num...  \n",
              "1  Education Details May 2013 to May 2017 B E UIT...  \n",
              "2  Areas of Interest Deep Learning Control System...  \n",
              "3  Skills R Python SAP HANA Tableau SAP HANA SQL ...  \n",
              "4  Education Details MCA YMCAUST Faridabad Haryan...  "
            ],
            "text/html": [
              "\n",
              "  <div id=\"df-bd74ac90-53ce-41a0-8b82-f86d8e1a7116\">\n",
              "    <div class=\"colab-df-container\">\n",
              "      <div>\n",
              "<style scoped>\n",
              "    .dataframe tbody tr th:only-of-type {\n",
              "        vertical-align: middle;\n",
              "    }\n",
              "\n",
              "    .dataframe tbody tr th {\n",
              "        vertical-align: top;\n",
              "    }\n",
              "\n",
              "    .dataframe thead th {\n",
              "        text-align: right;\n",
              "    }\n",
              "</style>\n",
              "<table border=\"1\" class=\"dataframe\">\n",
              "  <thead>\n",
              "    <tr style=\"text-align: right;\">\n",
              "      <th></th>\n",
              "      <th>Category</th>\n",
              "      <th>Resume</th>\n",
              "      <th>cleaned_resume</th>\n",
              "    </tr>\n",
              "  </thead>\n",
              "  <tbody>\n",
              "    <tr>\n",
              "      <th>0</th>\n",
              "      <td>Data Science</td>\n",
              "      <td>Skills * Programming Languages: Python (pandas...</td>\n",
              "      <td>Skills Programming Languages Python pandas num...</td>\n",
              "    </tr>\n",
              "    <tr>\n",
              "      <th>1</th>\n",
              "      <td>Data Science</td>\n",
              "      <td>Education Details \\r\\nMay 2013 to May 2017 B.E...</td>\n",
              "      <td>Education Details May 2013 to May 2017 B E UIT...</td>\n",
              "    </tr>\n",
              "    <tr>\n",
              "      <th>2</th>\n",
              "      <td>Data Science</td>\n",
              "      <td>Areas of Interest Deep Learning, Control Syste...</td>\n",
              "      <td>Areas of Interest Deep Learning Control System...</td>\n",
              "    </tr>\n",
              "    <tr>\n",
              "      <th>3</th>\n",
              "      <td>Data Science</td>\n",
              "      <td>Skills â¢ R â¢ Python â¢ SAP HANA â¢ Table...</td>\n",
              "      <td>Skills R Python SAP HANA Tableau SAP HANA SQL ...</td>\n",
              "    </tr>\n",
              "    <tr>\n",
              "      <th>4</th>\n",
              "      <td>Data Science</td>\n",
              "      <td>Education Details \\r\\n MCA   YMCAUST,  Faridab...</td>\n",
              "      <td>Education Details MCA YMCAUST Faridabad Haryan...</td>\n",
              "    </tr>\n",
              "  </tbody>\n",
              "</table>\n",
              "</div>\n",
              "      <button class=\"colab-df-convert\" onclick=\"convertToInteractive('df-bd74ac90-53ce-41a0-8b82-f86d8e1a7116')\"\n",
              "              title=\"Convert this dataframe to an interactive table.\"\n",
              "              style=\"display:none;\">\n",
              "        \n",
              "  <svg xmlns=\"http://www.w3.org/2000/svg\" height=\"24px\"viewBox=\"0 0 24 24\"\n",
              "       width=\"24px\">\n",
              "    <path d=\"M0 0h24v24H0V0z\" fill=\"none\"/>\n",
              "    <path d=\"M18.56 5.44l.94 2.06.94-2.06 2.06-.94-2.06-.94-.94-2.06-.94 2.06-2.06.94zm-11 1L8.5 8.5l.94-2.06 2.06-.94-2.06-.94L8.5 2.5l-.94 2.06-2.06.94zm10 10l.94 2.06.94-2.06 2.06-.94-2.06-.94-.94-2.06-.94 2.06-2.06.94z\"/><path d=\"M17.41 7.96l-1.37-1.37c-.4-.4-.92-.59-1.43-.59-.52 0-1.04.2-1.43.59L10.3 9.45l-7.72 7.72c-.78.78-.78 2.05 0 2.83L4 21.41c.39.39.9.59 1.41.59.51 0 1.02-.2 1.41-.59l7.78-7.78 2.81-2.81c.8-.78.8-2.07 0-2.86zM5.41 20L4 18.59l7.72-7.72 1.47 1.35L5.41 20z\"/>\n",
              "  </svg>\n",
              "      </button>\n",
              "      \n",
              "  <style>\n",
              "    .colab-df-container {\n",
              "      display:flex;\n",
              "      flex-wrap:wrap;\n",
              "      gap: 12px;\n",
              "    }\n",
              "\n",
              "    .colab-df-convert {\n",
              "      background-color: #E8F0FE;\n",
              "      border: none;\n",
              "      border-radius: 50%;\n",
              "      cursor: pointer;\n",
              "      display: none;\n",
              "      fill: #1967D2;\n",
              "      height: 32px;\n",
              "      padding: 0 0 0 0;\n",
              "      width: 32px;\n",
              "    }\n",
              "\n",
              "    .colab-df-convert:hover {\n",
              "      background-color: #E2EBFA;\n",
              "      box-shadow: 0px 1px 2px rgba(60, 64, 67, 0.3), 0px 1px 3px 1px rgba(60, 64, 67, 0.15);\n",
              "      fill: #174EA6;\n",
              "    }\n",
              "\n",
              "    [theme=dark] .colab-df-convert {\n",
              "      background-color: #3B4455;\n",
              "      fill: #D2E3FC;\n",
              "    }\n",
              "\n",
              "    [theme=dark] .colab-df-convert:hover {\n",
              "      background-color: #434B5C;\n",
              "      box-shadow: 0px 1px 3px 1px rgba(0, 0, 0, 0.15);\n",
              "      filter: drop-shadow(0px 1px 2px rgba(0, 0, 0, 0.3));\n",
              "      fill: #FFFFFF;\n",
              "    }\n",
              "  </style>\n",
              "\n",
              "      <script>\n",
              "        const buttonEl =\n",
              "          document.querySelector('#df-bd74ac90-53ce-41a0-8b82-f86d8e1a7116 button.colab-df-convert');\n",
              "        buttonEl.style.display =\n",
              "          google.colab.kernel.accessAllowed ? 'block' : 'none';\n",
              "\n",
              "        async function convertToInteractive(key) {\n",
              "          const element = document.querySelector('#df-bd74ac90-53ce-41a0-8b82-f86d8e1a7116');\n",
              "          const dataTable =\n",
              "            await google.colab.kernel.invokeFunction('convertToInteractive',\n",
              "                                                     [key], {});\n",
              "          if (!dataTable) return;\n",
              "\n",
              "          const docLinkHtml = 'Like what you see? Visit the ' +\n",
              "            '<a target=\"_blank\" href=https://colab.research.google.com/notebooks/data_table.ipynb>data table notebook</a>'\n",
              "            + ' to learn more about interactive tables.';\n",
              "          element.innerHTML = '';\n",
              "          dataTable['output_type'] = 'display_data';\n",
              "          await google.colab.output.renderOutput(dataTable, element);\n",
              "          const docLink = document.createElement('div');\n",
              "          docLink.innerHTML = docLinkHtml;\n",
              "          element.appendChild(docLink);\n",
              "        }\n",
              "      </script>\n",
              "    </div>\n",
              "  </div>\n",
              "  "
            ]
          },
          "metadata": {},
          "execution_count": 15
        }
      ]
    },
    {
      "cell_type": "markdown",
      "source": [
        "Checking the most common words from resume"
      ],
      "metadata": {
        "id": "61x9FdLcSEBu"
      }
    },
    {
      "cell_type": "code",
      "source": [
        "oneSetOfStopWords = set(stopwords.words('english')+['``',\"''\"])\n",
        "totalWords =[]\n",
        "Sentences = df['Resume'].values\n",
        "cleanedSentences = \"\"\n",
        "for records in Sentences:\n",
        "    cleanedText = cleanResume(records)\n",
        "    cleanedSentences += cleanedText\n",
        "    requiredWords = nltk.word_tokenize(cleanedText)\n",
        "    for word in requiredWords:\n",
        "        if word not in oneSetOfStopWords and word not in string.punctuation:\n",
        "            totalWords.append(word)\n",
        "    \n",
        "wordfreqdist = nltk.FreqDist(totalWords)\n",
        "mostcommon = wordfreqdist.most_common(50)\n",
        "print(mostcommon)"
      ],
      "metadata": {
        "colab": {
          "base_uri": "https://localhost:8080/"
        },
        "id": "aJ58bpOTSCU9",
        "outputId": "4a4bcac5-c06b-4d5b-c9e0-bc6cfd65af56"
      },
      "execution_count": 16,
      "outputs": [
        {
          "output_type": "stream",
          "name": "stdout",
          "text": [
            "[('Exprience', 3829), ('months', 3233), ('company', 3130), ('Details', 2967), ('description', 2634), ('1', 2134), ('Project', 1808), ('project', 1579), ('6', 1499), ('data', 1438), ('team', 1424), ('Maharashtra', 1385), ('year', 1244), ('Less', 1137), ('January', 1086), ('using', 1041), ('Skill', 1018), ('Pune', 1016), ('Management', 1010), ('SQL', 990), ('Ltd', 934), ('management', 927), ('C', 896), ('Engineering', 855), ('Education', 833), ('Developer', 806), ('Java', 773), ('2', 754), ('development', 752), ('monthsCompany', 746), ('Pvt', 730), ('application', 727), ('System', 715), ('reports', 697), ('business', 696), ('India', 693), ('requirements', 693), ('I', 690), ('various', 688), ('A', 688), ('Data', 674), ('The', 672), ('University', 656), ('process', 648), ('Testing', 646), ('test', 638), ('Responsibilities', 637), ('system', 636), ('testing', 634), ('Software', 632)]\n"
          ]
        }
      ]
    },
    {
      "cell_type": "code",
      "source": [
        "from sklearn.preprocessing import LabelEncoder\n",
        "\n",
        "var_mod = ['Category']\n",
        "le = LabelEncoder()\n",
        "for i in var_mod:\n",
        "    df[i] = le.fit_transform(df[i])"
      ],
      "metadata": {
        "id": "D7lJ5SOaSH38"
      },
      "execution_count": 17,
      "outputs": []
    },
    {
      "cell_type": "code",
      "source": [
        "df.Category.value_counts()"
      ],
      "metadata": {
        "colab": {
          "base_uri": "https://localhost:8080/"
        },
        "id": "AeZd03HHSJ1r",
        "outputId": "d9fd9be1-df06-4afd-c47f-a55e502d1972"
      },
      "execution_count": 18,
      "outputs": [
        {
          "output_type": "execute_result",
          "data": {
            "text/plain": [
              "15    84\n",
              "23    70\n",
              "8     55\n",
              "20    48\n",
              "24    45\n",
              "12    44\n",
              "13    42\n",
              "3     40\n",
              "10    40\n",
              "18    40\n",
              "6     40\n",
              "22    40\n",
              "16    40\n",
              "1     36\n",
              "7     33\n",
              "11    30\n",
              "14    30\n",
              "19    30\n",
              "4     28\n",
              "9     28\n",
              "2     26\n",
              "17    25\n",
              "21    24\n",
              "5     24\n",
              "0     20\n",
              "Name: Category, dtype: int64"
            ]
          },
          "metadata": {},
          "execution_count": 18
        }
      ]
    },
    {
      "cell_type": "markdown",
      "source": [
        "**Building Model**"
      ],
      "metadata": {
        "id": "b5i3ix7dSVVl"
      }
    },
    {
      "cell_type": "code",
      "source": [
        "from sklearn.model_selection import train_test_split\n",
        "from sklearn.feature_extraction.text import TfidfVectorizer\n",
        "#from scipy.sparse import hstack\n",
        "\n",
        "requiredText = df['cleaned_resume'].values\n",
        "requiredTarget = df['Category'].values\n",
        "\n",
        "word_vectorizer = TfidfVectorizer(\n",
        "    sublinear_tf=True,\n",
        "    stop_words='english')\n",
        "word_vectorizer.fit(requiredText)\n",
        "WordFeatures = word_vectorizer.transform(requiredText)\n",
        "\n",
        "print (\"Feature completed .....\")"
      ],
      "metadata": {
        "colab": {
          "base_uri": "https://localhost:8080/"
        },
        "id": "_Bs06ZkaSWgL",
        "outputId": "a56a903d-b8e5-4bad-f54b-e667e520005b"
      },
      "execution_count": 19,
      "outputs": [
        {
          "output_type": "stream",
          "name": "stdout",
          "text": [
            "Feature completed .....\n"
          ]
        }
      ]
    },
    {
      "cell_type": "code",
      "source": [
        "X_train,X_test,y_train,y_test = train_test_split(WordFeatures,requiredTarget,random_state=1, test_size=0.2,shuffle=True, stratify=requiredTarget)\n",
        "print(X_train.shape)\n",
        "print(X_test.shape)"
      ],
      "metadata": {
        "colab": {
          "base_uri": "https://localhost:8080/"
        },
        "id": "Rw5KvVO-SbPU",
        "outputId": "18ce5214-ba71-4f22-f203-397eae2c4704"
      },
      "execution_count": 20,
      "outputs": [
        {
          "output_type": "stream",
          "name": "stdout",
          "text": [
            "(769, 7351)\n",
            "(193, 7351)\n"
          ]
        }
      ]
    },
    {
      "cell_type": "code",
      "source": [
        "from sklearn.multiclass import OneVsRestClassifier\n",
        "from sklearn import metrics\n",
        "from sklearn.metrics import accuracy_score\n",
        "from sklearn.neighbors import KNeighborsClassifier"
      ],
      "metadata": {
        "id": "bTWBifwtSc2c"
      },
      "execution_count": 21,
      "outputs": []
    },
    {
      "cell_type": "code",
      "source": [
        "clf = OneVsRestClassifier(KNeighborsClassifier())\n",
        "clf.fit(X_train, y_train)\n",
        "prediction = clf.predict(X_test)\n",
        "print('Accuracy of KNeighbors Classifier on training: {:.2f}'.format(clf.score(X_train, y_train)))\n",
        "print('Accuracy of KNeighbors Classifier on test:     {:.2f}'.format(clf.score(X_test, y_test)))"
      ],
      "metadata": {
        "colab": {
          "base_uri": "https://localhost:8080/"
        },
        "id": "F_0UfJ7YSex7",
        "outputId": "19f832f8-614b-4ad4-d74d-a0bdf409f152"
      },
      "execution_count": 22,
      "outputs": [
        {
          "output_type": "stream",
          "name": "stdout",
          "text": [
            "Accuracy of KNeighbors Classifier on training: 0.99\n",
            "Accuracy of KNeighbors Classifier on test:     0.99\n"
          ]
        }
      ]
    },
    {
      "cell_type": "code",
      "source": [
        "print(\"\\n Classification report for classifier %s:\\n%s\\n\" % (clf, metrics.classification_report(y_test, prediction)))"
      ],
      "metadata": {
        "colab": {
          "base_uri": "https://localhost:8080/"
        },
        "id": "5HbUWuc0Sg6N",
        "outputId": "97d6b5b2-eeac-4298-c421-dce25f89e836"
      },
      "execution_count": 23,
      "outputs": [
        {
          "output_type": "stream",
          "name": "stdout",
          "text": [
            "\n",
            " Classification report for classifier OneVsRestClassifier(estimator=KNeighborsClassifier()):\n",
            "              precision    recall  f1-score   support\n",
            "\n",
            "           0       1.00      1.00      1.00         4\n",
            "           1       1.00      1.00      1.00         7\n",
            "           2       1.00      1.00      1.00         5\n",
            "           3       1.00      1.00      1.00         8\n",
            "           4       1.00      1.00      1.00         5\n",
            "           5       1.00      1.00      1.00         5\n",
            "           6       1.00      1.00      1.00         8\n",
            "           7       1.00      1.00      1.00         7\n",
            "           8       1.00      0.91      0.95        11\n",
            "           9       0.86      1.00      0.92         6\n",
            "          10       1.00      1.00      1.00         8\n",
            "          11       1.00      1.00      1.00         6\n",
            "          12       1.00      1.00      1.00         9\n",
            "          13       1.00      1.00      1.00         8\n",
            "          14       1.00      1.00      1.00         6\n",
            "          15       1.00      1.00      1.00        17\n",
            "          16       1.00      1.00      1.00         8\n",
            "          17       1.00      1.00      1.00         5\n",
            "          18       1.00      1.00      1.00         8\n",
            "          19       1.00      1.00      1.00         6\n",
            "          20       1.00      1.00      1.00        10\n",
            "          21       1.00      1.00      1.00         5\n",
            "          22       1.00      1.00      1.00         8\n",
            "          23       1.00      1.00      1.00        14\n",
            "          24       1.00      1.00      1.00         9\n",
            "\n",
            "    accuracy                           0.99       193\n",
            "   macro avg       0.99      1.00      1.00       193\n",
            "weighted avg       1.00      0.99      0.99       193\n",
            "\n",
            "\n"
          ]
        }
      ]
    },
    {
      "cell_type": "code",
      "source": [
        "le.classes_\n"
      ],
      "metadata": {
        "colab": {
          "base_uri": "https://localhost:8080/"
        },
        "id": "6-XbLNXVSlwt",
        "outputId": "ec44e12d-3e52-494c-815b-0f7e5e1b279d"
      },
      "execution_count": 24,
      "outputs": [
        {
          "output_type": "execute_result",
          "data": {
            "text/plain": [
              "array(['Advocate', 'Arts', 'Automation Testing', 'Blockchain',\n",
              "       'Business Analyst', 'Civil Engineer', 'Data Science', 'Database',\n",
              "       'DevOps Engineer', 'DotNet Developer', 'ETL Developer',\n",
              "       'Electrical Engineering', 'HR', 'Hadoop', 'Health and fitness',\n",
              "       'Java Developer', 'Mechanical Engineer',\n",
              "       'Network Security Engineer', 'Operations Manager', 'PMO',\n",
              "       'Python Developer', 'SAP Developer', 'Sales', 'Testing',\n",
              "       'Web Designing'], dtype=object)"
            ]
          },
          "metadata": {},
          "execution_count": 24
        }
      ]
    },
    {
      "cell_type": "markdown",
      "source": [
        "###**Task 4**"
      ],
      "metadata": {
        "id": "HLxoKjymSqx8"
      }
    }
  ]
}