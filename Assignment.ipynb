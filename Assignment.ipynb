{
  "nbformat": 4,
  "nbformat_minor": 0,
  "metadata": {
    "colab": {
      "name": "Assignment",
      "provenance": [],
      "authorship_tag": "ABX9TyPYXUJqJRrVcejhhKAkeqm0",
      "include_colab_link": true
    },
    "kernelspec": {
      "name": "python3",
      "display_name": "Python 3"
    },
    "language_info": {
      "name": "python"
    }
  },
  "cells": [
    {
      "cell_type": "markdown",
      "metadata": {
        "id": "view-in-github",
        "colab_type": "text"
      },
      "source": [
        "<a href=\"https://colab.research.google.com/github/ItsMeVenkatesh/Venkat/blob/main/Assignment.ipynb\" target=\"_parent\"><img src=\"https://colab.research.google.com/assets/colab-badge.svg\" alt=\"Open In Colab\"/></a>"
      ]
    },
    {
      "cell_type": "code",
      "source": [
        "  email = str(input(\"Enter Your Email : \"))\n",
        "  password = str(input(\"Enter Your Password : \"))\n",
        "  \n",
        "  if userExists(email, password):\n",
        "      print(\"Welcome!\")\n",
        "  else:\n",
        "      print(\"Invalid Credentials!\")"
      ],
      "metadata": {
        "id": "DzzaNxbE3FcJ"
      },
      "execution_count": null,
      "outputs": []
    },
    {
      "cell_type": "code",
      "source": [
        "  name = str(input(\"Enter Your Name : \"))\n",
        "  surname = str(input(\"Enter Your Surname : \"))\n",
        "  email = str(input(\"Enter Your Email : \"))\n",
        "  password = str(input(\"Enter Your Password : \"))\n",
        "  confPassword = str(input(\"Confirm Your Password : \"))\n",
        "  \n",
        "  if(password == confPassword):\n",
        "      print(\"User Accepted!\")\n",
        "      user = createUser(name, surname, email, password)\n",
        "  else:\n",
        "      print(\"Invalid Credentials\")"
      ],
      "metadata": {
        "id": "V8KweDy94PoE"
      },
      "execution_count": null,
      "outputs": []
    }
  ]
}